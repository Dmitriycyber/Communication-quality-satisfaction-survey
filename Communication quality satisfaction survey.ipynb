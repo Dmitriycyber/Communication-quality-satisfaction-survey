{
 "cells": [
  {
   "cell_type": "code",
   "execution_count": 1,
   "metadata": {},
   "outputs": [],
   "source": [
    "import pandas as pd\n",
    "import numpy as np\n",
    "import seaborn as sns  \n",
    "import matplotlib.pyplot as plt\n",
    "from scipy import stats"
   ]
  },
  {
   "cell_type": "markdown",
   "metadata": {},
   "source": [
    "#### <font color='yellow'>Общий разведочный анализ, валидация и очистка данных:</font>"
   ]
  },
  {
   "cell_type": "code",
   "execution_count": 2,
   "metadata": {},
   "outputs": [],
   "source": [
    "df = pd.read_csv('/Users/user/Downloads/megafon.csv')"
   ]
  },
  {
   "cell_type": "code",
   "execution_count": 3,
   "metadata": {},
   "outputs": [
    {
     "data": {
      "text/html": [
       "<div>\n",
       "<style scoped>\n",
       "    .dataframe tbody tr th:only-of-type {\n",
       "        vertical-align: middle;\n",
       "    }\n",
       "\n",
       "    .dataframe tbody tr th {\n",
       "        vertical-align: top;\n",
       "    }\n",
       "\n",
       "    .dataframe thead th {\n",
       "        text-align: right;\n",
       "    }\n",
       "</style>\n",
       "<table border=\"1\" class=\"dataframe\">\n",
       "  <thead>\n",
       "    <tr style=\"text-align: right;\">\n",
       "      <th></th>\n",
       "      <th>user_id</th>\n",
       "      <th>Q1</th>\n",
       "      <th>Q2</th>\n",
       "      <th>Total Traffic(MB)</th>\n",
       "      <th>Downlink Throughput(Kbps)</th>\n",
       "      <th>Uplink Throughput(Kbps)</th>\n",
       "      <th>Downlink TCP Retransmission Rate(%)</th>\n",
       "      <th>Video Streaming Download Throughput(Kbps)</th>\n",
       "      <th>Video Streaming xKB Start Delay(ms)</th>\n",
       "      <th>Web Page Download Throughput(Kbps)</th>\n",
       "      <th>Web Average TCP RTT(ms)</th>\n",
       "    </tr>\n",
       "  </thead>\n",
       "  <tbody>\n",
       "    <tr>\n",
       "      <th>0</th>\n",
       "      <td>1</td>\n",
       "      <td>5</td>\n",
       "      <td>NaN</td>\n",
       "      <td>775.48846</td>\n",
       "      <td>360.13</td>\n",
       "      <td>86.56</td>\n",
       "      <td>3.93</td>\n",
       "      <td>1859.15</td>\n",
       "      <td>2309</td>\n",
       "      <td>1007.82</td>\n",
       "      <td>83</td>\n",
       "    </tr>\n",
       "    <tr>\n",
       "      <th>1</th>\n",
       "      <td>2</td>\n",
       "      <td>5</td>\n",
       "      <td>4</td>\n",
       "      <td>861.96324</td>\n",
       "      <td>3023.54</td>\n",
       "      <td>411.18</td>\n",
       "      <td>1.27</td>\n",
       "      <td>667.47</td>\n",
       "      <td>2080</td>\n",
       "      <td>255.36</td>\n",
       "      <td>425</td>\n",
       "    </tr>\n",
       "    <tr>\n",
       "      <th>2</th>\n",
       "      <td>3</td>\n",
       "      <td>1</td>\n",
       "      <td>4</td>\n",
       "      <td>261.11860</td>\n",
       "      <td>790.96</td>\n",
       "      <td>34.20</td>\n",
       "      <td>1.79</td>\n",
       "      <td>1079.60</td>\n",
       "      <td>6367</td>\n",
       "      <td>535.85</td>\n",
       "      <td>485</td>\n",
       "    </tr>\n",
       "    <tr>\n",
       "      <th>3</th>\n",
       "      <td>4</td>\n",
       "      <td>8</td>\n",
       "      <td>3</td>\n",
       "      <td>179.18564</td>\n",
       "      <td>2590.97</td>\n",
       "      <td>325.88</td>\n",
       "      <td>0.80</td>\n",
       "      <td>7053.81</td>\n",
       "      <td>3218</td>\n",
       "      <td>1221.02</td>\n",
       "      <td>51</td>\n",
       "    </tr>\n",
       "    <tr>\n",
       "      <th>4</th>\n",
       "      <td>5</td>\n",
       "      <td>2</td>\n",
       "      <td>2, 3, 4</td>\n",
       "      <td>351.99208</td>\n",
       "      <td>731.61</td>\n",
       "      <td>223.54</td>\n",
       "      <td>1.15</td>\n",
       "      <td>4550.38</td>\n",
       "      <td>1767</td>\n",
       "      <td>2336.56</td>\n",
       "      <td>68</td>\n",
       "    </tr>\n",
       "  </tbody>\n",
       "</table>\n",
       "</div>"
      ],
      "text/plain": [
       "   user_id Q1       Q2  Total Traffic(MB)  Downlink Throughput(Kbps)  \\\n",
       "0        1  5      NaN          775.48846                     360.13   \n",
       "1        2  5        4          861.96324                    3023.54   \n",
       "2        3  1        4          261.11860                     790.96   \n",
       "3        4  8        3          179.18564                    2590.97   \n",
       "4        5  2  2, 3, 4          351.99208                     731.61   \n",
       "\n",
       "   Uplink Throughput(Kbps)  Downlink TCP Retransmission Rate(%)  \\\n",
       "0                    86.56                                 3.93   \n",
       "1                   411.18                                 1.27   \n",
       "2                    34.20                                 1.79   \n",
       "3                   325.88                                 0.80   \n",
       "4                   223.54                                 1.15   \n",
       "\n",
       "   Video Streaming Download Throughput(Kbps)  \\\n",
       "0                                    1859.15   \n",
       "1                                     667.47   \n",
       "2                                    1079.60   \n",
       "3                                    7053.81   \n",
       "4                                    4550.38   \n",
       "\n",
       "   Video Streaming xKB Start Delay(ms)  Web Page Download Throughput(Kbps)  \\\n",
       "0                                 2309                             1007.82   \n",
       "1                                 2080                              255.36   \n",
       "2                                 6367                              535.85   \n",
       "3                                 3218                             1221.02   \n",
       "4                                 1767                             2336.56   \n",
       "\n",
       "   Web Average TCP RTT(ms)  \n",
       "0                       83  \n",
       "1                      425  \n",
       "2                      485  \n",
       "3                       51  \n",
       "4                       68  "
      ]
     },
     "execution_count": 3,
     "metadata": {},
     "output_type": "execute_result"
    }
   ],
   "source": [
    "df.head()"
   ]
  },
  {
   "cell_type": "code",
   "execution_count": 4,
   "metadata": {},
   "outputs": [
    {
     "data": {
      "text/html": [
       "<div>\n",
       "<style scoped>\n",
       "    .dataframe tbody tr th:only-of-type {\n",
       "        vertical-align: middle;\n",
       "    }\n",
       "\n",
       "    .dataframe tbody tr th {\n",
       "        vertical-align: top;\n",
       "    }\n",
       "\n",
       "    .dataframe thead th {\n",
       "        text-align: right;\n",
       "    }\n",
       "</style>\n",
       "<table border=\"1\" class=\"dataframe\">\n",
       "  <thead>\n",
       "    <tr style=\"text-align: right;\">\n",
       "      <th></th>\n",
       "      <th>user_id</th>\n",
       "      <th>Q2</th>\n",
       "      <th>Total Traffic(MB)</th>\n",
       "      <th>Downlink Throughput(Kbps)</th>\n",
       "      <th>Uplink Throughput(Kbps)</th>\n",
       "      <th>Downlink TCP Retransmission Rate(%)</th>\n",
       "      <th>Video Streaming Download Throughput(Kbps)</th>\n",
       "      <th>Video Streaming xKB Start Delay(ms)</th>\n",
       "      <th>Web Page Download Throughput(Kbps)</th>\n",
       "      <th>Web Average TCP RTT(ms)</th>\n",
       "    </tr>\n",
       "    <tr>\n",
       "      <th>Q1</th>\n",
       "      <th></th>\n",
       "      <th></th>\n",
       "      <th></th>\n",
       "      <th></th>\n",
       "      <th></th>\n",
       "      <th></th>\n",
       "      <th></th>\n",
       "      <th></th>\n",
       "      <th></th>\n",
       "      <th></th>\n",
       "    </tr>\n",
       "  </thead>\n",
       "  <tbody>\n",
       "    <tr>\n",
       "      <th>***** ** ***</th>\n",
       "      <td>1</td>\n",
       "      <td>0</td>\n",
       "      <td>1</td>\n",
       "      <td>1</td>\n",
       "      <td>1</td>\n",
       "      <td>1</td>\n",
       "      <td>1</td>\n",
       "      <td>1</td>\n",
       "      <td>1</td>\n",
       "      <td>1</td>\n",
       "    </tr>\n",
       "    <tr>\n",
       "      <th>0</th>\n",
       "      <td>10</td>\n",
       "      <td>0</td>\n",
       "      <td>10</td>\n",
       "      <td>10</td>\n",
       "      <td>10</td>\n",
       "      <td>10</td>\n",
       "      <td>10</td>\n",
       "      <td>10</td>\n",
       "      <td>10</td>\n",
       "      <td>10</td>\n",
       "    </tr>\n",
       "    <tr>\n",
       "      <th>0, 1, 5</th>\n",
       "      <td>1</td>\n",
       "      <td>0</td>\n",
       "      <td>1</td>\n",
       "      <td>1</td>\n",
       "      <td>1</td>\n",
       "      <td>1</td>\n",
       "      <td>1</td>\n",
       "      <td>1</td>\n",
       "      <td>1</td>\n",
       "      <td>1</td>\n",
       "    </tr>\n",
       "    <tr>\n",
       "      <th>1</th>\n",
       "      <td>532</td>\n",
       "      <td>333</td>\n",
       "      <td>532</td>\n",
       "      <td>532</td>\n",
       "      <td>532</td>\n",
       "      <td>532</td>\n",
       "      <td>532</td>\n",
       "      <td>532</td>\n",
       "      <td>532</td>\n",
       "      <td>532</td>\n",
       "    </tr>\n",
       "    <tr>\n",
       "      <th>1, 3</th>\n",
       "      <td>2</td>\n",
       "      <td>0</td>\n",
       "      <td>2</td>\n",
       "      <td>2</td>\n",
       "      <td>2</td>\n",
       "      <td>2</td>\n",
       "      <td>2</td>\n",
       "      <td>2</td>\n",
       "      <td>2</td>\n",
       "      <td>2</td>\n",
       "    </tr>\n",
       "    <tr>\n",
       "      <th>1, 6</th>\n",
       "      <td>1</td>\n",
       "      <td>0</td>\n",
       "      <td>1</td>\n",
       "      <td>1</td>\n",
       "      <td>1</td>\n",
       "      <td>1</td>\n",
       "      <td>1</td>\n",
       "      <td>1</td>\n",
       "      <td>1</td>\n",
       "      <td>1</td>\n",
       "    </tr>\n",
       "    <tr>\n",
       "      <th>1, 8</th>\n",
       "      <td>1</td>\n",
       "      <td>0</td>\n",
       "      <td>1</td>\n",
       "      <td>1</td>\n",
       "      <td>1</td>\n",
       "      <td>1</td>\n",
       "      <td>1</td>\n",
       "      <td>1</td>\n",
       "      <td>1</td>\n",
       "      <td>1</td>\n",
       "    </tr>\n",
       "    <tr>\n",
       "      <th>10</th>\n",
       "      <td>846</td>\n",
       "      <td>0</td>\n",
       "      <td>846</td>\n",
       "      <td>846</td>\n",
       "      <td>846</td>\n",
       "      <td>846</td>\n",
       "      <td>846</td>\n",
       "      <td>846</td>\n",
       "      <td>846</td>\n",
       "      <td>846</td>\n",
       "    </tr>\n",
       "    <tr>\n",
       "      <th>10, 5</th>\n",
       "      <td>1</td>\n",
       "      <td>0</td>\n",
       "      <td>1</td>\n",
       "      <td>1</td>\n",
       "      <td>1</td>\n",
       "      <td>1</td>\n",
       "      <td>1</td>\n",
       "      <td>1</td>\n",
       "      <td>1</td>\n",
       "      <td>1</td>\n",
       "    </tr>\n",
       "    <tr>\n",
       "      <th>10, 50</th>\n",
       "      <td>1</td>\n",
       "      <td>0</td>\n",
       "      <td>1</td>\n",
       "      <td>1</td>\n",
       "      <td>1</td>\n",
       "      <td>1</td>\n",
       "      <td>1</td>\n",
       "      <td>1</td>\n",
       "      <td>1</td>\n",
       "      <td>1</td>\n",
       "    </tr>\n",
       "    <tr>\n",
       "      <th>10, 9</th>\n",
       "      <td>1</td>\n",
       "      <td>0</td>\n",
       "      <td>1</td>\n",
       "      <td>1</td>\n",
       "      <td>1</td>\n",
       "      <td>1</td>\n",
       "      <td>1</td>\n",
       "      <td>1</td>\n",
       "      <td>1</td>\n",
       "      <td>1</td>\n",
       "    </tr>\n",
       "    <tr>\n",
       "      <th>11</th>\n",
       "      <td>1</td>\n",
       "      <td>0</td>\n",
       "      <td>1</td>\n",
       "      <td>1</td>\n",
       "      <td>1</td>\n",
       "      <td>1</td>\n",
       "      <td>1</td>\n",
       "      <td>1</td>\n",
       "      <td>1</td>\n",
       "      <td>1</td>\n",
       "    </tr>\n",
       "    <tr>\n",
       "      <th>15</th>\n",
       "      <td>1</td>\n",
       "      <td>0</td>\n",
       "      <td>1</td>\n",
       "      <td>1</td>\n",
       "      <td>1</td>\n",
       "      <td>1</td>\n",
       "      <td>1</td>\n",
       "      <td>1</td>\n",
       "      <td>1</td>\n",
       "      <td>1</td>\n",
       "    </tr>\n",
       "    <tr>\n",
       "      <th>19</th>\n",
       "      <td>1</td>\n",
       "      <td>0</td>\n",
       "      <td>1</td>\n",
       "      <td>1</td>\n",
       "      <td>1</td>\n",
       "      <td>1</td>\n",
       "      <td>1</td>\n",
       "      <td>1</td>\n",
       "      <td>1</td>\n",
       "      <td>1</td>\n",
       "    </tr>\n",
       "    <tr>\n",
       "      <th>2</th>\n",
       "      <td>168</td>\n",
       "      <td>113</td>\n",
       "      <td>168</td>\n",
       "      <td>168</td>\n",
       "      <td>168</td>\n",
       "      <td>168</td>\n",
       "      <td>168</td>\n",
       "      <td>168</td>\n",
       "      <td>168</td>\n",
       "      <td>168</td>\n",
       "    </tr>\n",
       "    <tr>\n",
       "      <th>2, 5</th>\n",
       "      <td>1</td>\n",
       "      <td>0</td>\n",
       "      <td>1</td>\n",
       "      <td>1</td>\n",
       "      <td>1</td>\n",
       "      <td>1</td>\n",
       "      <td>1</td>\n",
       "      <td>1</td>\n",
       "      <td>1</td>\n",
       "      <td>1</td>\n",
       "    </tr>\n",
       "    <tr>\n",
       "      <th>2, 9</th>\n",
       "      <td>1</td>\n",
       "      <td>0</td>\n",
       "      <td>1</td>\n",
       "      <td>1</td>\n",
       "      <td>1</td>\n",
       "      <td>1</td>\n",
       "      <td>1</td>\n",
       "      <td>1</td>\n",
       "      <td>1</td>\n",
       "      <td>1</td>\n",
       "    </tr>\n",
       "    <tr>\n",
       "      <th>20, 89031081392</th>\n",
       "      <td>1</td>\n",
       "      <td>0</td>\n",
       "      <td>1</td>\n",
       "      <td>1</td>\n",
       "      <td>1</td>\n",
       "      <td>1</td>\n",
       "      <td>1</td>\n",
       "      <td>1</td>\n",
       "      <td>1</td>\n",
       "      <td>1</td>\n",
       "    </tr>\n",
       "    <tr>\n",
       "      <th>3</th>\n",
       "      <td>325</td>\n",
       "      <td>219</td>\n",
       "      <td>325</td>\n",
       "      <td>325</td>\n",
       "      <td>325</td>\n",
       "      <td>325</td>\n",
       "      <td>325</td>\n",
       "      <td>325</td>\n",
       "      <td>325</td>\n",
       "      <td>325</td>\n",
       "    </tr>\n",
       "    <tr>\n",
       "      <th>3 - дер.Ширяево Волоколамского района, 9 - в Москве</th>\n",
       "      <td>1</td>\n",
       "      <td>0</td>\n",
       "      <td>1</td>\n",
       "      <td>1</td>\n",
       "      <td>1</td>\n",
       "      <td>1</td>\n",
       "      <td>1</td>\n",
       "      <td>1</td>\n",
       "      <td>1</td>\n",
       "      <td>1</td>\n",
       "    </tr>\n",
       "    <tr>\n",
       "      <th>3 тройка, связь отвратительная, жалко платить за такой тарив</th>\n",
       "      <td>1</td>\n",
       "      <td>0</td>\n",
       "      <td>1</td>\n",
       "      <td>1</td>\n",
       "      <td>1</td>\n",
       "      <td>1</td>\n",
       "      <td>1</td>\n",
       "      <td>1</td>\n",
       "      <td>1</td>\n",
       "      <td>1</td>\n",
       "    </tr>\n",
       "    <tr>\n",
       "      <th>3, 7</th>\n",
       "      <td>1</td>\n",
       "      <td>0</td>\n",
       "      <td>1</td>\n",
       "      <td>1</td>\n",
       "      <td>1</td>\n",
       "      <td>1</td>\n",
       "      <td>1</td>\n",
       "      <td>1</td>\n",
       "      <td>1</td>\n",
       "      <td>1</td>\n",
       "    </tr>\n",
       "    <tr>\n",
       "      <th>3, 9</th>\n",
       "      <td>1</td>\n",
       "      <td>0</td>\n",
       "      <td>1</td>\n",
       "      <td>1</td>\n",
       "      <td>1</td>\n",
       "      <td>1</td>\n",
       "      <td>1</td>\n",
       "      <td>1</td>\n",
       "      <td>1</td>\n",
       "      <td>1</td>\n",
       "    </tr>\n",
       "    <tr>\n",
       "      <th>4</th>\n",
       "      <td>123</td>\n",
       "      <td>90</td>\n",
       "      <td>123</td>\n",
       "      <td>123</td>\n",
       "      <td>123</td>\n",
       "      <td>123</td>\n",
       "      <td>123</td>\n",
       "      <td>123</td>\n",
       "      <td>123</td>\n",
       "      <td>123</td>\n",
       "    </tr>\n",
       "    <tr>\n",
       "      <th>4. Тульская область Заокский район. Романовские дачи связи почти нет</th>\n",
       "      <td>1</td>\n",
       "      <td>0</td>\n",
       "      <td>1</td>\n",
       "      <td>1</td>\n",
       "      <td>1</td>\n",
       "      <td>1</td>\n",
       "      <td>1</td>\n",
       "      <td>1</td>\n",
       "      <td>1</td>\n",
       "      <td>1</td>\n",
       "    </tr>\n",
       "    <tr>\n",
       "      <th>5</th>\n",
       "      <td>234</td>\n",
       "      <td>158</td>\n",
       "      <td>234</td>\n",
       "      <td>234</td>\n",
       "      <td>234</td>\n",
       "      <td>234</td>\n",
       "      <td>234</td>\n",
       "      <td>234</td>\n",
       "      <td>234</td>\n",
       "      <td>234</td>\n",
       "    </tr>\n",
       "    <tr>\n",
       "      <th>5, 6</th>\n",
       "      <td>2</td>\n",
       "      <td>0</td>\n",
       "      <td>2</td>\n",
       "      <td>2</td>\n",
       "      <td>2</td>\n",
       "      <td>2</td>\n",
       "      <td>2</td>\n",
       "      <td>2</td>\n",
       "      <td>2</td>\n",
       "      <td>2</td>\n",
       "    </tr>\n",
       "    <tr>\n",
       "      <th>5, 7</th>\n",
       "      <td>1</td>\n",
       "      <td>0</td>\n",
       "      <td>1</td>\n",
       "      <td>1</td>\n",
       "      <td>1</td>\n",
       "      <td>1</td>\n",
       "      <td>1</td>\n",
       "      <td>1</td>\n",
       "      <td>1</td>\n",
       "      <td>1</td>\n",
       "    </tr>\n",
       "    <tr>\n",
       "      <th>6</th>\n",
       "      <td>101</td>\n",
       "      <td>73</td>\n",
       "      <td>101</td>\n",
       "      <td>101</td>\n",
       "      <td>101</td>\n",
       "      <td>101</td>\n",
       "      <td>101</td>\n",
       "      <td>101</td>\n",
       "      <td>101</td>\n",
       "      <td>101</td>\n",
       "    </tr>\n",
       "    <tr>\n",
       "      <th>7</th>\n",
       "      <td>200</td>\n",
       "      <td>139</td>\n",
       "      <td>200</td>\n",
       "      <td>200</td>\n",
       "      <td>200</td>\n",
       "      <td>200</td>\n",
       "      <td>200</td>\n",
       "      <td>200</td>\n",
       "      <td>200</td>\n",
       "      <td>200</td>\n",
       "    </tr>\n",
       "    <tr>\n",
       "      <th>8</th>\n",
       "      <td>291</td>\n",
       "      <td>190</td>\n",
       "      <td>291</td>\n",
       "      <td>291</td>\n",
       "      <td>291</td>\n",
       "      <td>291</td>\n",
       "      <td>291</td>\n",
       "      <td>291</td>\n",
       "      <td>291</td>\n",
       "      <td>291</td>\n",
       "    </tr>\n",
       "    <tr>\n",
       "      <th>9</th>\n",
       "      <td>238</td>\n",
       "      <td>0</td>\n",
       "      <td>238</td>\n",
       "      <td>238</td>\n",
       "      <td>238</td>\n",
       "      <td>238</td>\n",
       "      <td>238</td>\n",
       "      <td>238</td>\n",
       "      <td>238</td>\n",
       "      <td>238</td>\n",
       "    </tr>\n",
       "    <tr>\n",
       "      <th>?</th>\n",
       "      <td>1</td>\n",
       "      <td>0</td>\n",
       "      <td>1</td>\n",
       "      <td>1</td>\n",
       "      <td>1</td>\n",
       "      <td>1</td>\n",
       "      <td>1</td>\n",
       "      <td>1</td>\n",
       "      <td>1</td>\n",
       "      <td>1</td>\n",
       "    </tr>\n",
       "    <tr>\n",
       "      <th>Hi</th>\n",
       "      <td>1</td>\n",
       "      <td>0</td>\n",
       "      <td>1</td>\n",
       "      <td>1</td>\n",
       "      <td>1</td>\n",
       "      <td>1</td>\n",
       "      <td>1</td>\n",
       "      <td>1</td>\n",
       "      <td>1</td>\n",
       "      <td>1</td>\n",
       "    </tr>\n",
       "    <tr>\n",
       "      <th>Без з</th>\n",
       "      <td>1</td>\n",
       "      <td>0</td>\n",
       "      <td>1</td>\n",
       "      <td>1</td>\n",
       "      <td>1</td>\n",
       "      <td>1</td>\n",
       "      <td>1</td>\n",
       "      <td>1</td>\n",
       "      <td>1</td>\n",
       "      <td>1</td>\n",
       "    </tr>\n",
       "    <tr>\n",
       "      <th>Да</th>\n",
       "      <td>2</td>\n",
       "      <td>0</td>\n",
       "      <td>2</td>\n",
       "      <td>2</td>\n",
       "      <td>2</td>\n",
       "      <td>2</td>\n",
       "      <td>2</td>\n",
       "      <td>2</td>\n",
       "      <td>2</td>\n",
       "      <td>2</td>\n",
       "    </tr>\n",
       "    <tr>\n",
       "      <th>Когда в Москве-10 а когда в калужской области в деревне Бели-1</th>\n",
       "      <td>1</td>\n",
       "      <td>0</td>\n",
       "      <td>1</td>\n",
       "      <td>1</td>\n",
       "      <td>1</td>\n",
       "      <td>1</td>\n",
       "      <td>1</td>\n",
       "      <td>1</td>\n",
       "      <td>1</td>\n",
       "      <td>1</td>\n",
       "    </tr>\n",
       "    <tr>\n",
       "      <th>Немагу дать атценку денги незашто снимаеть скоро выклучаю</th>\n",
       "      <td>1</td>\n",
       "      <td>0</td>\n",
       "      <td>1</td>\n",
       "      <td>1</td>\n",
       "      <td>1</td>\n",
       "      <td>1</td>\n",
       "      <td>1</td>\n",
       "      <td>1</td>\n",
       "      <td>1</td>\n",
       "      <td>1</td>\n",
       "    </tr>\n",
       "    <tr>\n",
       "      <th>Нет</th>\n",
       "      <td>2</td>\n",
       "      <td>0</td>\n",
       "      <td>2</td>\n",
       "      <td>2</td>\n",
       "      <td>2</td>\n",
       "      <td>2</td>\n",
       "      <td>2</td>\n",
       "      <td>2</td>\n",
       "      <td>2</td>\n",
       "      <td>2</td>\n",
       "    </tr>\n",
       "    <tr>\n",
       "      <th>ОЦЕНКА-3/НЕВАЖНО/</th>\n",
       "      <td>1</td>\n",
       "      <td>0</td>\n",
       "      <td>1</td>\n",
       "      <td>1</td>\n",
       "      <td>1</td>\n",
       "      <td>1</td>\n",
       "      <td>1</td>\n",
       "      <td>1</td>\n",
       "      <td>1</td>\n",
       "      <td>1</td>\n",
       "    </tr>\n",
       "    <tr>\n",
       "      <th>Отвратительно</th>\n",
       "      <td>1</td>\n",
       "      <td>0</td>\n",
       "      <td>1</td>\n",
       "      <td>1</td>\n",
       "      <td>1</td>\n",
       "      <td>1</td>\n",
       "      <td>1</td>\n",
       "      <td>1</td>\n",
       "      <td>1</td>\n",
       "      <td>1</td>\n",
       "    </tr>\n",
       "    <tr>\n",
       "      <th>Очень  хорошо. Обслуживания  я довольно. Спасибо вам.555</th>\n",
       "      <td>1</td>\n",
       "      <td>0</td>\n",
       "      <td>1</td>\n",
       "      <td>1</td>\n",
       "      <td>1</td>\n",
       "      <td>1</td>\n",
       "      <td>1</td>\n",
       "      <td>1</td>\n",
       "      <td>1</td>\n",
       "      <td>1</td>\n",
       "    </tr>\n",
       "    <tr>\n",
       "      <th>Пока не понял</th>\n",
       "      <td>1</td>\n",
       "      <td>0</td>\n",
       "      <td>1</td>\n",
       "      <td>1</td>\n",
       "      <td>1</td>\n",
       "      <td>1</td>\n",
       "      <td>1</td>\n",
       "      <td>1</td>\n",
       "      <td>1</td>\n",
       "      <td>1</td>\n",
       "    </tr>\n",
       "    <tr>\n",
       "      <th>Поохое</th>\n",
       "      <td>1</td>\n",
       "      <td>0</td>\n",
       "      <td>1</td>\n",
       "      <td>1</td>\n",
       "      <td>1</td>\n",
       "      <td>1</td>\n",
       "      <td>1</td>\n",
       "      <td>1</td>\n",
       "      <td>1</td>\n",
       "      <td>1</td>\n",
       "    </tr>\n",
       "    <tr>\n",
       "      <th>Ужасно</th>\n",
       "      <td>1</td>\n",
       "      <td>0</td>\n",
       "      <td>1</td>\n",
       "      <td>1</td>\n",
       "      <td>1</td>\n",
       "      <td>1</td>\n",
       "      <td>1</td>\n",
       "      <td>1</td>\n",
       "      <td>1</td>\n",
       "      <td>1</td>\n",
       "    </tr>\n",
       "    <tr>\n",
       "      <th>Чдтчдтччдтччч</th>\n",
       "      <td>1</td>\n",
       "      <td>0</td>\n",
       "      <td>1</td>\n",
       "      <td>1</td>\n",
       "      <td>1</td>\n",
       "      <td>1</td>\n",
       "      <td>1</td>\n",
       "      <td>1</td>\n",
       "      <td>1</td>\n",
       "      <td>1</td>\n",
       "    </tr>\n",
       "    <tr>\n",
       "      <th>Чем даль ше,тем лучше.Спасибо за ваш труд.Оценка 10 !</th>\n",
       "      <td>1</td>\n",
       "      <td>0</td>\n",
       "      <td>1</td>\n",
       "      <td>1</td>\n",
       "      <td>1</td>\n",
       "      <td>1</td>\n",
       "      <td>1</td>\n",
       "      <td>1</td>\n",
       "      <td>1</td>\n",
       "      <td>1</td>\n",
       "    </tr>\n",
       "    <tr>\n",
       "      <th>Я в Смол. Области живу сейчас, не пользуюсь телефоном совсем</th>\n",
       "      <td>1</td>\n",
       "      <td>0</td>\n",
       "      <td>1</td>\n",
       "      <td>1</td>\n",
       "      <td>1</td>\n",
       "      <td>1</td>\n",
       "      <td>1</td>\n",
       "      <td>1</td>\n",
       "      <td>1</td>\n",
       "      <td>1</td>\n",
       "    </tr>\n",
       "    <tr>\n",
       "      <th>Я ценой услуг не удовлетворен</th>\n",
       "      <td>1</td>\n",
       "      <td>0</td>\n",
       "      <td>1</td>\n",
       "      <td>1</td>\n",
       "      <td>1</td>\n",
       "      <td>1</td>\n",
       "      <td>1</td>\n",
       "      <td>1</td>\n",
       "      <td>1</td>\n",
       "      <td>1</td>\n",
       "    </tr>\n",
       "  </tbody>\n",
       "</table>\n",
       "</div>"
      ],
      "text/plain": [
       "                                                    user_id   Q2  \\\n",
       "Q1                                                                 \n",
       "***** ** ***                                              1    0   \n",
       "0                                                        10    0   \n",
       "0, 1, 5                                                   1    0   \n",
       "1                                                       532  333   \n",
       "1, 3                                                      2    0   \n",
       "1, 6                                                      1    0   \n",
       "1, 8                                                      1    0   \n",
       "10                                                      846    0   \n",
       "10, 5                                                     1    0   \n",
       "10, 50                                                    1    0   \n",
       "10, 9                                                     1    0   \n",
       "11                                                        1    0   \n",
       "15                                                        1    0   \n",
       "19                                                        1    0   \n",
       "2                                                       168  113   \n",
       "2, 5                                                      1    0   \n",
       "2, 9                                                      1    0   \n",
       "20, 89031081392                                           1    0   \n",
       "3                                                       325  219   \n",
       "3 - дер.Ширяево Волоколамского района, 9 - в Мо...        1    0   \n",
       "3 тройка, связь отвратительная, жалко платить з...        1    0   \n",
       "3, 7                                                      1    0   \n",
       "3, 9                                                      1    0   \n",
       "4                                                       123   90   \n",
       "4. Тульская область Заокский район. Романовские...        1    0   \n",
       "5                                                       234  158   \n",
       "5, 6                                                      2    0   \n",
       "5, 7                                                      1    0   \n",
       "6                                                       101   73   \n",
       "7                                                       200  139   \n",
       "8                                                       291  190   \n",
       "9                                                       238    0   \n",
       "?                                                         1    0   \n",
       "Hi                                                        1    0   \n",
       "Без з                                                     1    0   \n",
       "Да                                                        2    0   \n",
       "Когда в Москве-10 а когда в калужской области в...        1    0   \n",
       "Немагу дать атценку денги незашто снимаеть скор...        1    0   \n",
       "Нет                                                       2    0   \n",
       "ОЦЕНКА-3/НЕВАЖНО/                                         1    0   \n",
       "Отвратительно                                             1    0   \n",
       "Очень  хорошо. Обслуживания  я довольно. Спасиб...        1    0   \n",
       "Пока не понял                                             1    0   \n",
       "Поохое                                                    1    0   \n",
       "Ужасно                                                    1    0   \n",
       "Чдтчдтччдтччч                                             1    0   \n",
       "Чем даль ше,тем лучше.Спасибо за ваш труд.Оценк...        1    0   \n",
       "Я в Смол. Области живу сейчас, не пользуюсь тел...        1    0   \n",
       "Я ценой услуг не удовлетворен                             1    0   \n",
       "\n",
       "                                                    Total Traffic(MB)  \\\n",
       "Q1                                                                      \n",
       "***** ** ***                                                        1   \n",
       "0                                                                  10   \n",
       "0, 1, 5                                                             1   \n",
       "1                                                                 532   \n",
       "1, 3                                                                2   \n",
       "1, 6                                                                1   \n",
       "1, 8                                                                1   \n",
       "10                                                                846   \n",
       "10, 5                                                               1   \n",
       "10, 50                                                              1   \n",
       "10, 9                                                               1   \n",
       "11                                                                  1   \n",
       "15                                                                  1   \n",
       "19                                                                  1   \n",
       "2                                                                 168   \n",
       "2, 5                                                                1   \n",
       "2, 9                                                                1   \n",
       "20, 89031081392                                                     1   \n",
       "3                                                                 325   \n",
       "3 - дер.Ширяево Волоколамского района, 9 - в Мо...                  1   \n",
       "3 тройка, связь отвратительная, жалко платить з...                  1   \n",
       "3, 7                                                                1   \n",
       "3, 9                                                                1   \n",
       "4                                                                 123   \n",
       "4. Тульская область Заокский район. Романовские...                  1   \n",
       "5                                                                 234   \n",
       "5, 6                                                                2   \n",
       "5, 7                                                                1   \n",
       "6                                                                 101   \n",
       "7                                                                 200   \n",
       "8                                                                 291   \n",
       "9                                                                 238   \n",
       "?                                                                   1   \n",
       "Hi                                                                  1   \n",
       "Без з                                                               1   \n",
       "Да                                                                  2   \n",
       "Когда в Москве-10 а когда в калужской области в...                  1   \n",
       "Немагу дать атценку денги незашто снимаеть скор...                  1   \n",
       "Нет                                                                 2   \n",
       "ОЦЕНКА-3/НЕВАЖНО/                                                   1   \n",
       "Отвратительно                                                       1   \n",
       "Очень  хорошо. Обслуживания  я довольно. Спасиб...                  1   \n",
       "Пока не понял                                                       1   \n",
       "Поохое                                                              1   \n",
       "Ужасно                                                              1   \n",
       "Чдтчдтччдтччч                                                       1   \n",
       "Чем даль ше,тем лучше.Спасибо за ваш труд.Оценк...                  1   \n",
       "Я в Смол. Области живу сейчас, не пользуюсь тел...                  1   \n",
       "Я ценой услуг не удовлетворен                                       1   \n",
       "\n",
       "                                                    Downlink Throughput(Kbps)  \\\n",
       "Q1                                                                              \n",
       "***** ** ***                                                                1   \n",
       "0                                                                          10   \n",
       "0, 1, 5                                                                     1   \n",
       "1                                                                         532   \n",
       "1, 3                                                                        2   \n",
       "1, 6                                                                        1   \n",
       "1, 8                                                                        1   \n",
       "10                                                                        846   \n",
       "10, 5                                                                       1   \n",
       "10, 50                                                                      1   \n",
       "10, 9                                                                       1   \n",
       "11                                                                          1   \n",
       "15                                                                          1   \n",
       "19                                                                          1   \n",
       "2                                                                         168   \n",
       "2, 5                                                                        1   \n",
       "2, 9                                                                        1   \n",
       "20, 89031081392                                                             1   \n",
       "3                                                                         325   \n",
       "3 - дер.Ширяево Волоколамского района, 9 - в Мо...                          1   \n",
       "3 тройка, связь отвратительная, жалко платить з...                          1   \n",
       "3, 7                                                                        1   \n",
       "3, 9                                                                        1   \n",
       "4                                                                         123   \n",
       "4. Тульская область Заокский район. Романовские...                          1   \n",
       "5                                                                         234   \n",
       "5, 6                                                                        2   \n",
       "5, 7                                                                        1   \n",
       "6                                                                         101   \n",
       "7                                                                         200   \n",
       "8                                                                         291   \n",
       "9                                                                         238   \n",
       "?                                                                           1   \n",
       "Hi                                                                          1   \n",
       "Без з                                                                       1   \n",
       "Да                                                                          2   \n",
       "Когда в Москве-10 а когда в калужской области в...                          1   \n",
       "Немагу дать атценку денги незашто снимаеть скор...                          1   \n",
       "Нет                                                                         2   \n",
       "ОЦЕНКА-3/НЕВАЖНО/                                                           1   \n",
       "Отвратительно                                                               1   \n",
       "Очень  хорошо. Обслуживания  я довольно. Спасиб...                          1   \n",
       "Пока не понял                                                               1   \n",
       "Поохое                                                                      1   \n",
       "Ужасно                                                                      1   \n",
       "Чдтчдтччдтччч                                                               1   \n",
       "Чем даль ше,тем лучше.Спасибо за ваш труд.Оценк...                          1   \n",
       "Я в Смол. Области живу сейчас, не пользуюсь тел...                          1   \n",
       "Я ценой услуг не удовлетворен                                               1   \n",
       "\n",
       "                                                    Uplink Throughput(Kbps)  \\\n",
       "Q1                                                                            \n",
       "***** ** ***                                                              1   \n",
       "0                                                                        10   \n",
       "0, 1, 5                                                                   1   \n",
       "1                                                                       532   \n",
       "1, 3                                                                      2   \n",
       "1, 6                                                                      1   \n",
       "1, 8                                                                      1   \n",
       "10                                                                      846   \n",
       "10, 5                                                                     1   \n",
       "10, 50                                                                    1   \n",
       "10, 9                                                                     1   \n",
       "11                                                                        1   \n",
       "15                                                                        1   \n",
       "19                                                                        1   \n",
       "2                                                                       168   \n",
       "2, 5                                                                      1   \n",
       "2, 9                                                                      1   \n",
       "20, 89031081392                                                           1   \n",
       "3                                                                       325   \n",
       "3 - дер.Ширяево Волоколамского района, 9 - в Мо...                        1   \n",
       "3 тройка, связь отвратительная, жалко платить з...                        1   \n",
       "3, 7                                                                      1   \n",
       "3, 9                                                                      1   \n",
       "4                                                                       123   \n",
       "4. Тульская область Заокский район. Романовские...                        1   \n",
       "5                                                                       234   \n",
       "5, 6                                                                      2   \n",
       "5, 7                                                                      1   \n",
       "6                                                                       101   \n",
       "7                                                                       200   \n",
       "8                                                                       291   \n",
       "9                                                                       238   \n",
       "?                                                                         1   \n",
       "Hi                                                                        1   \n",
       "Без з                                                                     1   \n",
       "Да                                                                        2   \n",
       "Когда в Москве-10 а когда в калужской области в...                        1   \n",
       "Немагу дать атценку денги незашто снимаеть скор...                        1   \n",
       "Нет                                                                       2   \n",
       "ОЦЕНКА-3/НЕВАЖНО/                                                         1   \n",
       "Отвратительно                                                             1   \n",
       "Очень  хорошо. Обслуживания  я довольно. Спасиб...                        1   \n",
       "Пока не понял                                                             1   \n",
       "Поохое                                                                    1   \n",
       "Ужасно                                                                    1   \n",
       "Чдтчдтччдтччч                                                             1   \n",
       "Чем даль ше,тем лучше.Спасибо за ваш труд.Оценк...                        1   \n",
       "Я в Смол. Области живу сейчас, не пользуюсь тел...                        1   \n",
       "Я ценой услуг не удовлетворен                                             1   \n",
       "\n",
       "                                                    Downlink TCP Retransmission Rate(%)  \\\n",
       "Q1                                                                                        \n",
       "***** ** ***                                                                          1   \n",
       "0                                                                                    10   \n",
       "0, 1, 5                                                                               1   \n",
       "1                                                                                   532   \n",
       "1, 3                                                                                  2   \n",
       "1, 6                                                                                  1   \n",
       "1, 8                                                                                  1   \n",
       "10                                                                                  846   \n",
       "10, 5                                                                                 1   \n",
       "10, 50                                                                                1   \n",
       "10, 9                                                                                 1   \n",
       "11                                                                                    1   \n",
       "15                                                                                    1   \n",
       "19                                                                                    1   \n",
       "2                                                                                   168   \n",
       "2, 5                                                                                  1   \n",
       "2, 9                                                                                  1   \n",
       "20, 89031081392                                                                       1   \n",
       "3                                                                                   325   \n",
       "3 - дер.Ширяево Волоколамского района, 9 - в Мо...                                    1   \n",
       "3 тройка, связь отвратительная, жалко платить з...                                    1   \n",
       "3, 7                                                                                  1   \n",
       "3, 9                                                                                  1   \n",
       "4                                                                                   123   \n",
       "4. Тульская область Заокский район. Романовские...                                    1   \n",
       "5                                                                                   234   \n",
       "5, 6                                                                                  2   \n",
       "5, 7                                                                                  1   \n",
       "6                                                                                   101   \n",
       "7                                                                                   200   \n",
       "8                                                                                   291   \n",
       "9                                                                                   238   \n",
       "?                                                                                     1   \n",
       "Hi                                                                                    1   \n",
       "Без з                                                                                 1   \n",
       "Да                                                                                    2   \n",
       "Когда в Москве-10 а когда в калужской области в...                                    1   \n",
       "Немагу дать атценку денги незашто снимаеть скор...                                    1   \n",
       "Нет                                                                                   2   \n",
       "ОЦЕНКА-3/НЕВАЖНО/                                                                     1   \n",
       "Отвратительно                                                                         1   \n",
       "Очень  хорошо. Обслуживания  я довольно. Спасиб...                                    1   \n",
       "Пока не понял                                                                         1   \n",
       "Поохое                                                                                1   \n",
       "Ужасно                                                                                1   \n",
       "Чдтчдтччдтччч                                                                         1   \n",
       "Чем даль ше,тем лучше.Спасибо за ваш труд.Оценк...                                    1   \n",
       "Я в Смол. Области живу сейчас, не пользуюсь тел...                                    1   \n",
       "Я ценой услуг не удовлетворен                                                         1   \n",
       "\n",
       "                                                    Video Streaming Download Throughput(Kbps)  \\\n",
       "Q1                                                                                              \n",
       "***** ** ***                                                                                1   \n",
       "0                                                                                          10   \n",
       "0, 1, 5                                                                                     1   \n",
       "1                                                                                         532   \n",
       "1, 3                                                                                        2   \n",
       "1, 6                                                                                        1   \n",
       "1, 8                                                                                        1   \n",
       "10                                                                                        846   \n",
       "10, 5                                                                                       1   \n",
       "10, 50                                                                                      1   \n",
       "10, 9                                                                                       1   \n",
       "11                                                                                          1   \n",
       "15                                                                                          1   \n",
       "19                                                                                          1   \n",
       "2                                                                                         168   \n",
       "2, 5                                                                                        1   \n",
       "2, 9                                                                                        1   \n",
       "20, 89031081392                                                                             1   \n",
       "3                                                                                         325   \n",
       "3 - дер.Ширяево Волоколамского района, 9 - в Мо...                                          1   \n",
       "3 тройка, связь отвратительная, жалко платить з...                                          1   \n",
       "3, 7                                                                                        1   \n",
       "3, 9                                                                                        1   \n",
       "4                                                                                         123   \n",
       "4. Тульская область Заокский район. Романовские...                                          1   \n",
       "5                                                                                         234   \n",
       "5, 6                                                                                        2   \n",
       "5, 7                                                                                        1   \n",
       "6                                                                                         101   \n",
       "7                                                                                         200   \n",
       "8                                                                                         291   \n",
       "9                                                                                         238   \n",
       "?                                                                                           1   \n",
       "Hi                                                                                          1   \n",
       "Без з                                                                                       1   \n",
       "Да                                                                                          2   \n",
       "Когда в Москве-10 а когда в калужской области в...                                          1   \n",
       "Немагу дать атценку денги незашто снимаеть скор...                                          1   \n",
       "Нет                                                                                         2   \n",
       "ОЦЕНКА-3/НЕВАЖНО/                                                                           1   \n",
       "Отвратительно                                                                               1   \n",
       "Очень  хорошо. Обслуживания  я довольно. Спасиб...                                          1   \n",
       "Пока не понял                                                                               1   \n",
       "Поохое                                                                                      1   \n",
       "Ужасно                                                                                      1   \n",
       "Чдтчдтччдтччч                                                                               1   \n",
       "Чем даль ше,тем лучше.Спасибо за ваш труд.Оценк...                                          1   \n",
       "Я в Смол. Области живу сейчас, не пользуюсь тел...                                          1   \n",
       "Я ценой услуг не удовлетворен                                                               1   \n",
       "\n",
       "                                                    Video Streaming xKB Start Delay(ms)  \\\n",
       "Q1                                                                                        \n",
       "***** ** ***                                                                          1   \n",
       "0                                                                                    10   \n",
       "0, 1, 5                                                                               1   \n",
       "1                                                                                   532   \n",
       "1, 3                                                                                  2   \n",
       "1, 6                                                                                  1   \n",
       "1, 8                                                                                  1   \n",
       "10                                                                                  846   \n",
       "10, 5                                                                                 1   \n",
       "10, 50                                                                                1   \n",
       "10, 9                                                                                 1   \n",
       "11                                                                                    1   \n",
       "15                                                                                    1   \n",
       "19                                                                                    1   \n",
       "2                                                                                   168   \n",
       "2, 5                                                                                  1   \n",
       "2, 9                                                                                  1   \n",
       "20, 89031081392                                                                       1   \n",
       "3                                                                                   325   \n",
       "3 - дер.Ширяево Волоколамского района, 9 - в Мо...                                    1   \n",
       "3 тройка, связь отвратительная, жалко платить з...                                    1   \n",
       "3, 7                                                                                  1   \n",
       "3, 9                                                                                  1   \n",
       "4                                                                                   123   \n",
       "4. Тульская область Заокский район. Романовские...                                    1   \n",
       "5                                                                                   234   \n",
       "5, 6                                                                                  2   \n",
       "5, 7                                                                                  1   \n",
       "6                                                                                   101   \n",
       "7                                                                                   200   \n",
       "8                                                                                   291   \n",
       "9                                                                                   238   \n",
       "?                                                                                     1   \n",
       "Hi                                                                                    1   \n",
       "Без з                                                                                 1   \n",
       "Да                                                                                    2   \n",
       "Когда в Москве-10 а когда в калужской области в...                                    1   \n",
       "Немагу дать атценку денги незашто снимаеть скор...                                    1   \n",
       "Нет                                                                                   2   \n",
       "ОЦЕНКА-3/НЕВАЖНО/                                                                     1   \n",
       "Отвратительно                                                                         1   \n",
       "Очень  хорошо. Обслуживания  я довольно. Спасиб...                                    1   \n",
       "Пока не понял                                                                         1   \n",
       "Поохое                                                                                1   \n",
       "Ужасно                                                                                1   \n",
       "Чдтчдтччдтччч                                                                         1   \n",
       "Чем даль ше,тем лучше.Спасибо за ваш труд.Оценк...                                    1   \n",
       "Я в Смол. Области живу сейчас, не пользуюсь тел...                                    1   \n",
       "Я ценой услуг не удовлетворен                                                         1   \n",
       "\n",
       "                                                    Web Page Download Throughput(Kbps)  \\\n",
       "Q1                                                                                       \n",
       "***** ** ***                                                                         1   \n",
       "0                                                                                   10   \n",
       "0, 1, 5                                                                              1   \n",
       "1                                                                                  532   \n",
       "1, 3                                                                                 2   \n",
       "1, 6                                                                                 1   \n",
       "1, 8                                                                                 1   \n",
       "10                                                                                 846   \n",
       "10, 5                                                                                1   \n",
       "10, 50                                                                               1   \n",
       "10, 9                                                                                1   \n",
       "11                                                                                   1   \n",
       "15                                                                                   1   \n",
       "19                                                                                   1   \n",
       "2                                                                                  168   \n",
       "2, 5                                                                                 1   \n",
       "2, 9                                                                                 1   \n",
       "20, 89031081392                                                                      1   \n",
       "3                                                                                  325   \n",
       "3 - дер.Ширяево Волоколамского района, 9 - в Мо...                                   1   \n",
       "3 тройка, связь отвратительная, жалко платить з...                                   1   \n",
       "3, 7                                                                                 1   \n",
       "3, 9                                                                                 1   \n",
       "4                                                                                  123   \n",
       "4. Тульская область Заокский район. Романовские...                                   1   \n",
       "5                                                                                  234   \n",
       "5, 6                                                                                 2   \n",
       "5, 7                                                                                 1   \n",
       "6                                                                                  101   \n",
       "7                                                                                  200   \n",
       "8                                                                                  291   \n",
       "9                                                                                  238   \n",
       "?                                                                                    1   \n",
       "Hi                                                                                   1   \n",
       "Без з                                                                                1   \n",
       "Да                                                                                   2   \n",
       "Когда в Москве-10 а когда в калужской области в...                                   1   \n",
       "Немагу дать атценку денги незашто снимаеть скор...                                   1   \n",
       "Нет                                                                                  2   \n",
       "ОЦЕНКА-3/НЕВАЖНО/                                                                    1   \n",
       "Отвратительно                                                                        1   \n",
       "Очень  хорошо. Обслуживания  я довольно. Спасиб...                                   1   \n",
       "Пока не понял                                                                        1   \n",
       "Поохое                                                                               1   \n",
       "Ужасно                                                                               1   \n",
       "Чдтчдтччдтччч                                                                        1   \n",
       "Чем даль ше,тем лучше.Спасибо за ваш труд.Оценк...                                   1   \n",
       "Я в Смол. Области живу сейчас, не пользуюсь тел...                                   1   \n",
       "Я ценой услуг не удовлетворен                                                        1   \n",
       "\n",
       "                                                    Web Average TCP RTT(ms)  \n",
       "Q1                                                                           \n",
       "***** ** ***                                                              1  \n",
       "0                                                                        10  \n",
       "0, 1, 5                                                                   1  \n",
       "1                                                                       532  \n",
       "1, 3                                                                      2  \n",
       "1, 6                                                                      1  \n",
       "1, 8                                                                      1  \n",
       "10                                                                      846  \n",
       "10, 5                                                                     1  \n",
       "10, 50                                                                    1  \n",
       "10, 9                                                                     1  \n",
       "11                                                                        1  \n",
       "15                                                                        1  \n",
       "19                                                                        1  \n",
       "2                                                                       168  \n",
       "2, 5                                                                      1  \n",
       "2, 9                                                                      1  \n",
       "20, 89031081392                                                           1  \n",
       "3                                                                       325  \n",
       "3 - дер.Ширяево Волоколамского района, 9 - в Мо...                        1  \n",
       "3 тройка, связь отвратительная, жалко платить з...                        1  \n",
       "3, 7                                                                      1  \n",
       "3, 9                                                                      1  \n",
       "4                                                                       123  \n",
       "4. Тульская область Заокский район. Романовские...                        1  \n",
       "5                                                                       234  \n",
       "5, 6                                                                      2  \n",
       "5, 7                                                                      1  \n",
       "6                                                                       101  \n",
       "7                                                                       200  \n",
       "8                                                                       291  \n",
       "9                                                                       238  \n",
       "?                                                                         1  \n",
       "Hi                                                                        1  \n",
       "Без з                                                                     1  \n",
       "Да                                                                        2  \n",
       "Когда в Москве-10 а когда в калужской области в...                        1  \n",
       "Немагу дать атценку денги незашто снимаеть скор...                        1  \n",
       "Нет                                                                       2  \n",
       "ОЦЕНКА-3/НЕВАЖНО/                                                         1  \n",
       "Отвратительно                                                             1  \n",
       "Очень  хорошо. Обслуживания  я довольно. Спасиб...                        1  \n",
       "Пока не понял                                                             1  \n",
       "Поохое                                                                    1  \n",
       "Ужасно                                                                    1  \n",
       "Чдтчдтччдтччч                                                             1  \n",
       "Чем даль ше,тем лучше.Спасибо за ваш труд.Оценк...                        1  \n",
       "Я в Смол. Области живу сейчас, не пользуюсь тел...                        1  \n",
       "Я ценой услуг не удовлетворен                                             1  "
      ]
     },
     "execution_count": 4,
     "metadata": {},
     "output_type": "execute_result"
    }
   ],
   "source": [
    "# Начнем очистку и нормализацию данных\n",
    "df.groupby('Q1').count()"
   ]
  },
  {
   "cell_type": "code",
   "execution_count": 5,
   "metadata": {},
   "outputs": [],
   "source": [
    "# находим nan значения в Q1 и удаляем их\n",
    "df = df.drop(df[df['Q1'].isnull()].index)"
   ]
  },
  {
   "cell_type": "code",
   "execution_count": 6,
   "metadata": {},
   "outputs": [],
   "source": [
    "# удаляем некорректные значения Q1\n",
    "df = df.loc[df[df['Q1'].str.isnumeric()].index]"
   ]
  },
  {
   "cell_type": "code",
   "execution_count": 7,
   "metadata": {},
   "outputs": [],
   "source": [
    "# убираем некорректные значения в Q1\n",
    "df['Q1'] = df['Q1'].astype(int)\n",
    "df = df.drop(df[df['Q1'] > 10].index)\n",
    "df = df.drop(df[df['Q1'] <= 0].index)"
   ]
  },
  {
   "cell_type": "code",
   "execution_count": 8,
   "metadata": {},
   "outputs": [],
   "source": [
    "# Разделим данные на 2 группы: те кто удовлетворен качеством связи(ответы 9-10) и кто не удовлетворен(ответы 1-8)"
   ]
  },
  {
   "cell_type": "code",
   "execution_count": 9,
   "metadata": {},
   "outputs": [],
   "source": [
    "bins = [0, 8, 10]\n",
    "\n",
    "df['quality'] = pd.cut(df['Q1'], bins=bins, labels=[\"bad\", \"good\"])"
   ]
  },
  {
   "cell_type": "code",
   "execution_count": 10,
   "metadata": {},
   "outputs": [
    {
     "data": {
      "text/html": [
       "<div>\n",
       "<style scoped>\n",
       "    .dataframe tbody tr th:only-of-type {\n",
       "        vertical-align: middle;\n",
       "    }\n",
       "\n",
       "    .dataframe tbody tr th {\n",
       "        vertical-align: top;\n",
       "    }\n",
       "\n",
       "    .dataframe thead th {\n",
       "        text-align: right;\n",
       "    }\n",
       "</style>\n",
       "<table border=\"1\" class=\"dataframe\">\n",
       "  <thead>\n",
       "    <tr style=\"text-align: right;\">\n",
       "      <th></th>\n",
       "      <th>user_id</th>\n",
       "      <th>Q1</th>\n",
       "      <th>Q2</th>\n",
       "      <th>Total Traffic(MB)</th>\n",
       "      <th>Downlink Throughput(Kbps)</th>\n",
       "      <th>Uplink Throughput(Kbps)</th>\n",
       "      <th>Downlink TCP Retransmission Rate(%)</th>\n",
       "      <th>Video Streaming Download Throughput(Kbps)</th>\n",
       "      <th>Video Streaming xKB Start Delay(ms)</th>\n",
       "      <th>Web Page Download Throughput(Kbps)</th>\n",
       "      <th>Web Average TCP RTT(ms)</th>\n",
       "    </tr>\n",
       "    <tr>\n",
       "      <th>quality</th>\n",
       "      <th></th>\n",
       "      <th></th>\n",
       "      <th></th>\n",
       "      <th></th>\n",
       "      <th></th>\n",
       "      <th></th>\n",
       "      <th></th>\n",
       "      <th></th>\n",
       "      <th></th>\n",
       "      <th></th>\n",
       "      <th></th>\n",
       "    </tr>\n",
       "  </thead>\n",
       "  <tbody>\n",
       "    <tr>\n",
       "      <th>bad</th>\n",
       "      <td>1974</td>\n",
       "      <td>1974</td>\n",
       "      <td>1315</td>\n",
       "      <td>1974</td>\n",
       "      <td>1974</td>\n",
       "      <td>1974</td>\n",
       "      <td>1974</td>\n",
       "      <td>1974</td>\n",
       "      <td>1974</td>\n",
       "      <td>1974</td>\n",
       "      <td>1974</td>\n",
       "    </tr>\n",
       "    <tr>\n",
       "      <th>good</th>\n",
       "      <td>1084</td>\n",
       "      <td>1084</td>\n",
       "      <td>0</td>\n",
       "      <td>1084</td>\n",
       "      <td>1084</td>\n",
       "      <td>1084</td>\n",
       "      <td>1084</td>\n",
       "      <td>1084</td>\n",
       "      <td>1084</td>\n",
       "      <td>1084</td>\n",
       "      <td>1084</td>\n",
       "    </tr>\n",
       "  </tbody>\n",
       "</table>\n",
       "</div>"
      ],
      "text/plain": [
       "         user_id    Q1    Q2  Total Traffic(MB)  Downlink Throughput(Kbps)  \\\n",
       "quality                                                                      \n",
       "bad         1974  1974  1315               1974                       1974   \n",
       "good        1084  1084     0               1084                       1084   \n",
       "\n",
       "         Uplink Throughput(Kbps)  Downlink TCP Retransmission Rate(%)  \\\n",
       "quality                                                                 \n",
       "bad                         1974                                 1974   \n",
       "good                        1084                                 1084   \n",
       "\n",
       "         Video Streaming Download Throughput(Kbps)  \\\n",
       "quality                                              \n",
       "bad                                           1974   \n",
       "good                                          1084   \n",
       "\n",
       "         Video Streaming xKB Start Delay(ms)  \\\n",
       "quality                                        \n",
       "bad                                     1974   \n",
       "good                                    1084   \n",
       "\n",
       "         Web Page Download Throughput(Kbps)  Web Average TCP RTT(ms)  \n",
       "quality                                                               \n",
       "bad                                    1974                     1974  \n",
       "good                                   1084                     1084  "
      ]
     },
     "execution_count": 10,
     "metadata": {},
     "output_type": "execute_result"
    }
   ],
   "source": [
    "df.groupby('quality').count()"
   ]
  },
  {
   "cell_type": "code",
   "execution_count": 11,
   "metadata": {},
   "outputs": [],
   "source": [
    "# Заменим значения Nan на 0\n",
    "value= {'Q2':'0'}\n",
    "df = df.fillna(value)"
   ]
  },
  {
   "cell_type": "code",
   "execution_count": 12,
   "metadata": {},
   "outputs": [],
   "source": [
    "# убираем 0-e значения в Q2 только для группы bad\n",
    "df = df.drop(df[(df['quality'] == 'bad') & (df['Q2'] == '0')].index)"
   ]
  },
  {
   "cell_type": "code",
   "execution_count": 13,
   "metadata": {},
   "outputs": [
    {
     "data": {
      "text/html": [
       "<div>\n",
       "<style scoped>\n",
       "    .dataframe tbody tr th:only-of-type {\n",
       "        vertical-align: middle;\n",
       "    }\n",
       "\n",
       "    .dataframe tbody tr th {\n",
       "        vertical-align: top;\n",
       "    }\n",
       "\n",
       "    .dataframe thead th {\n",
       "        text-align: right;\n",
       "    }\n",
       "</style>\n",
       "<table border=\"1\" class=\"dataframe\">\n",
       "  <thead>\n",
       "    <tr style=\"text-align: right;\">\n",
       "      <th></th>\n",
       "      <th>user_id</th>\n",
       "      <th>Q1</th>\n",
       "      <th>Q2</th>\n",
       "      <th>Total Traffic(MB)</th>\n",
       "      <th>Downlink Throughput(Kbps)</th>\n",
       "      <th>Uplink Throughput(Kbps)</th>\n",
       "      <th>Downlink TCP Retransmission Rate(%)</th>\n",
       "      <th>Video Streaming Download Throughput(Kbps)</th>\n",
       "      <th>Video Streaming xKB Start Delay(ms)</th>\n",
       "      <th>Web Page Download Throughput(Kbps)</th>\n",
       "      <th>Web Average TCP RTT(ms)</th>\n",
       "    </tr>\n",
       "    <tr>\n",
       "      <th>quality</th>\n",
       "      <th></th>\n",
       "      <th></th>\n",
       "      <th></th>\n",
       "      <th></th>\n",
       "      <th></th>\n",
       "      <th></th>\n",
       "      <th></th>\n",
       "      <th></th>\n",
       "      <th></th>\n",
       "      <th></th>\n",
       "      <th></th>\n",
       "    </tr>\n",
       "  </thead>\n",
       "  <tbody>\n",
       "    <tr>\n",
       "      <th>bad</th>\n",
       "      <td>1314</td>\n",
       "      <td>1314</td>\n",
       "      <td>1314</td>\n",
       "      <td>1314</td>\n",
       "      <td>1314</td>\n",
       "      <td>1314</td>\n",
       "      <td>1314</td>\n",
       "      <td>1314</td>\n",
       "      <td>1314</td>\n",
       "      <td>1314</td>\n",
       "      <td>1314</td>\n",
       "    </tr>\n",
       "    <tr>\n",
       "      <th>good</th>\n",
       "      <td>1084</td>\n",
       "      <td>1084</td>\n",
       "      <td>1084</td>\n",
       "      <td>1084</td>\n",
       "      <td>1084</td>\n",
       "      <td>1084</td>\n",
       "      <td>1084</td>\n",
       "      <td>1084</td>\n",
       "      <td>1084</td>\n",
       "      <td>1084</td>\n",
       "      <td>1084</td>\n",
       "    </tr>\n",
       "  </tbody>\n",
       "</table>\n",
       "</div>"
      ],
      "text/plain": [
       "         user_id    Q1    Q2  Total Traffic(MB)  Downlink Throughput(Kbps)  \\\n",
       "quality                                                                      \n",
       "bad         1314  1314  1314               1314                       1314   \n",
       "good        1084  1084  1084               1084                       1084   \n",
       "\n",
       "         Uplink Throughput(Kbps)  Downlink TCP Retransmission Rate(%)  \\\n",
       "quality                                                                 \n",
       "bad                         1314                                 1314   \n",
       "good                        1084                                 1084   \n",
       "\n",
       "         Video Streaming Download Throughput(Kbps)  \\\n",
       "quality                                              \n",
       "bad                                           1314   \n",
       "good                                          1084   \n",
       "\n",
       "         Video Streaming xKB Start Delay(ms)  \\\n",
       "quality                                        \n",
       "bad                                     1314   \n",
       "good                                    1084   \n",
       "\n",
       "         Web Page Download Throughput(Kbps)  Web Average TCP RTT(ms)  \n",
       "quality                                                               \n",
       "bad                                    1314                     1314  \n",
       "good                                   1084                     1084  "
      ]
     },
     "execution_count": 13,
     "metadata": {},
     "output_type": "execute_result"
    }
   ],
   "source": [
    "df.groupby('quality').count()"
   ]
  },
  {
   "cell_type": "code",
   "execution_count": 14,
   "metadata": {},
   "outputs": [],
   "source": [
    "# нормализуем  данные в Q2 (избавимся от запятых в ответах и сделаем одно значение ответа в строке)\n",
    "df['Q2'] = df['Q2'].str.split(pat=\",\", n=5)"
   ]
  },
  {
   "cell_type": "code",
   "execution_count": 15,
   "metadata": {},
   "outputs": [
    {
     "data": {
      "text/html": [
       "<div>\n",
       "<style scoped>\n",
       "    .dataframe tbody tr th:only-of-type {\n",
       "        vertical-align: middle;\n",
       "    }\n",
       "\n",
       "    .dataframe tbody tr th {\n",
       "        vertical-align: top;\n",
       "    }\n",
       "\n",
       "    .dataframe thead th {\n",
       "        text-align: right;\n",
       "    }\n",
       "</style>\n",
       "<table border=\"1\" class=\"dataframe\">\n",
       "  <thead>\n",
       "    <tr style=\"text-align: right;\">\n",
       "      <th></th>\n",
       "      <th>Q1</th>\n",
       "      <th>Q2</th>\n",
       "    </tr>\n",
       "  </thead>\n",
       "  <tbody>\n",
       "    <tr>\n",
       "      <th>1</th>\n",
       "      <td>5</td>\n",
       "      <td>[4]</td>\n",
       "    </tr>\n",
       "    <tr>\n",
       "      <th>2</th>\n",
       "      <td>1</td>\n",
       "      <td>[4]</td>\n",
       "    </tr>\n",
       "    <tr>\n",
       "      <th>3</th>\n",
       "      <td>8</td>\n",
       "      <td>[3]</td>\n",
       "    </tr>\n",
       "    <tr>\n",
       "      <th>4</th>\n",
       "      <td>2</td>\n",
       "      <td>[2,  3,  4]</td>\n",
       "    </tr>\n",
       "    <tr>\n",
       "      <th>6</th>\n",
       "      <td>2</td>\n",
       "      <td>[4,  5]</td>\n",
       "    </tr>\n",
       "    <tr>\n",
       "      <th>7</th>\n",
       "      <td>9</td>\n",
       "      <td>[0]</td>\n",
       "    </tr>\n",
       "    <tr>\n",
       "      <th>8</th>\n",
       "      <td>1</td>\n",
       "      <td>[1,  3,  4]</td>\n",
       "    </tr>\n",
       "    <tr>\n",
       "      <th>9</th>\n",
       "      <td>3</td>\n",
       "      <td>[1,  3,  4,  5]</td>\n",
       "    </tr>\n",
       "    <tr>\n",
       "      <th>10</th>\n",
       "      <td>3</td>\n",
       "      <td>[1,  3]</td>\n",
       "    </tr>\n",
       "    <tr>\n",
       "      <th>13</th>\n",
       "      <td>10</td>\n",
       "      <td>[0]</td>\n",
       "    </tr>\n",
       "  </tbody>\n",
       "</table>\n",
       "</div>"
      ],
      "text/plain": [
       "    Q1               Q2\n",
       "1    5              [4]\n",
       "2    1              [4]\n",
       "3    8              [3]\n",
       "4    2      [2,  3,  4]\n",
       "6    2          [4,  5]\n",
       "7    9              [0]\n",
       "8    1      [1,  3,  4]\n",
       "9    3  [1,  3,  4,  5]\n",
       "10   3          [1,  3]\n",
       "13  10              [0]"
      ]
     },
     "execution_count": 15,
     "metadata": {},
     "output_type": "execute_result"
    }
   ],
   "source": [
    "df[['Q1','Q2']].head(10)"
   ]
  },
  {
   "cell_type": "code",
   "execution_count": 16,
   "metadata": {},
   "outputs": [],
   "source": [
    "df = df.explode('Q2').reset_index().drop('index', axis=1)"
   ]
  },
  {
   "cell_type": "code",
   "execution_count": 17,
   "metadata": {},
   "outputs": [
    {
     "data": {
      "text/html": [
       "<div>\n",
       "<style scoped>\n",
       "    .dataframe tbody tr th:only-of-type {\n",
       "        vertical-align: middle;\n",
       "    }\n",
       "\n",
       "    .dataframe tbody tr th {\n",
       "        vertical-align: top;\n",
       "    }\n",
       "\n",
       "    .dataframe thead th {\n",
       "        text-align: right;\n",
       "    }\n",
       "</style>\n",
       "<table border=\"1\" class=\"dataframe\">\n",
       "  <thead>\n",
       "    <tr style=\"text-align: right;\">\n",
       "      <th></th>\n",
       "      <th>user_id</th>\n",
       "      <th>Q1</th>\n",
       "      <th>Total Traffic(MB)</th>\n",
       "      <th>Downlink Throughput(Kbps)</th>\n",
       "      <th>Uplink Throughput(Kbps)</th>\n",
       "      <th>Downlink TCP Retransmission Rate(%)</th>\n",
       "      <th>Video Streaming Download Throughput(Kbps)</th>\n",
       "      <th>Video Streaming xKB Start Delay(ms)</th>\n",
       "      <th>Web Page Download Throughput(Kbps)</th>\n",
       "      <th>Web Average TCP RTT(ms)</th>\n",
       "      <th>quality</th>\n",
       "    </tr>\n",
       "    <tr>\n",
       "      <th>Q2</th>\n",
       "      <th></th>\n",
       "      <th></th>\n",
       "      <th></th>\n",
       "      <th></th>\n",
       "      <th></th>\n",
       "      <th></th>\n",
       "      <th></th>\n",
       "      <th></th>\n",
       "      <th></th>\n",
       "      <th></th>\n",
       "      <th></th>\n",
       "    </tr>\n",
       "  </thead>\n",
       "  <tbody>\n",
       "    <tr>\n",
       "      <th>05</th>\n",
       "      <td>1</td>\n",
       "      <td>1</td>\n",
       "      <td>1</td>\n",
       "      <td>1</td>\n",
       "      <td>1</td>\n",
       "      <td>1</td>\n",
       "      <td>1</td>\n",
       "      <td>1</td>\n",
       "      <td>1</td>\n",
       "      <td>1</td>\n",
       "      <td>1</td>\n",
       "    </tr>\n",
       "    <tr>\n",
       "      <th>1</th>\n",
       "      <td>1</td>\n",
       "      <td>1</td>\n",
       "      <td>1</td>\n",
       "      <td>1</td>\n",
       "      <td>1</td>\n",
       "      <td>1</td>\n",
       "      <td>1</td>\n",
       "      <td>1</td>\n",
       "      <td>1</td>\n",
       "      <td>1</td>\n",
       "      <td>1</td>\n",
       "    </tr>\n",
       "    <tr>\n",
       "      <th>2</th>\n",
       "      <td>140</td>\n",
       "      <td>140</td>\n",
       "      <td>140</td>\n",
       "      <td>140</td>\n",
       "      <td>140</td>\n",
       "      <td>140</td>\n",
       "      <td>140</td>\n",
       "      <td>140</td>\n",
       "      <td>140</td>\n",
       "      <td>140</td>\n",
       "      <td>140</td>\n",
       "    </tr>\n",
       "    <tr>\n",
       "      <th>27</th>\n",
       "      <td>1</td>\n",
       "      <td>1</td>\n",
       "      <td>1</td>\n",
       "      <td>1</td>\n",
       "      <td>1</td>\n",
       "      <td>1</td>\n",
       "      <td>1</td>\n",
       "      <td>1</td>\n",
       "      <td>1</td>\n",
       "      <td>1</td>\n",
       "      <td>1</td>\n",
       "    </tr>\n",
       "    <tr>\n",
       "      <th>3</th>\n",
       "      <td>370</td>\n",
       "      <td>370</td>\n",
       "      <td>370</td>\n",
       "      <td>370</td>\n",
       "      <td>370</td>\n",
       "      <td>370</td>\n",
       "      <td>370</td>\n",
       "      <td>370</td>\n",
       "      <td>370</td>\n",
       "      <td>370</td>\n",
       "      <td>370</td>\n",
       "    </tr>\n",
       "    <tr>\n",
       "      <th>34</th>\n",
       "      <td>1</td>\n",
       "      <td>1</td>\n",
       "      <td>1</td>\n",
       "      <td>1</td>\n",
       "      <td>1</td>\n",
       "      <td>1</td>\n",
       "      <td>1</td>\n",
       "      <td>1</td>\n",
       "      <td>1</td>\n",
       "      <td>1</td>\n",
       "      <td>1</td>\n",
       "    </tr>\n",
       "    <tr>\n",
       "      <th>4</th>\n",
       "      <td>424</td>\n",
       "      <td>424</td>\n",
       "      <td>424</td>\n",
       "      <td>424</td>\n",
       "      <td>424</td>\n",
       "      <td>424</td>\n",
       "      <td>424</td>\n",
       "      <td>424</td>\n",
       "      <td>424</td>\n",
       "      <td>424</td>\n",
       "      <td>424</td>\n",
       "    </tr>\n",
       "    <tr>\n",
       "      <th>5</th>\n",
       "      <td>211</td>\n",
       "      <td>211</td>\n",
       "      <td>211</td>\n",
       "      <td>211</td>\n",
       "      <td>211</td>\n",
       "      <td>211</td>\n",
       "      <td>211</td>\n",
       "      <td>211</td>\n",
       "      <td>211</td>\n",
       "      <td>211</td>\n",
       "      <td>211</td>\n",
       "    </tr>\n",
       "    <tr>\n",
       "      <th>6</th>\n",
       "      <td>3</td>\n",
       "      <td>3</td>\n",
       "      <td>3</td>\n",
       "      <td>3</td>\n",
       "      <td>3</td>\n",
       "      <td>3</td>\n",
       "      <td>3</td>\n",
       "      <td>3</td>\n",
       "      <td>3</td>\n",
       "      <td>3</td>\n",
       "      <td>3</td>\n",
       "    </tr>\n",
       "    <tr>\n",
       "      <th>7</th>\n",
       "      <td>22</td>\n",
       "      <td>22</td>\n",
       "      <td>22</td>\n",
       "      <td>22</td>\n",
       "      <td>22</td>\n",
       "      <td>22</td>\n",
       "      <td>22</td>\n",
       "      <td>22</td>\n",
       "      <td>22</td>\n",
       "      <td>22</td>\n",
       "      <td>22</td>\n",
       "    </tr>\n",
       "    <tr>\n",
       "      <th>0</th>\n",
       "      <td>1087</td>\n",
       "      <td>1087</td>\n",
       "      <td>1087</td>\n",
       "      <td>1087</td>\n",
       "      <td>1087</td>\n",
       "      <td>1087</td>\n",
       "      <td>1087</td>\n",
       "      <td>1087</td>\n",
       "      <td>1087</td>\n",
       "      <td>1087</td>\n",
       "      <td>1087</td>\n",
       "    </tr>\n",
       "    <tr>\n",
       "      <th>1</th>\n",
       "      <td>646</td>\n",
       "      <td>646</td>\n",
       "      <td>646</td>\n",
       "      <td>646</td>\n",
       "      <td>646</td>\n",
       "      <td>646</td>\n",
       "      <td>646</td>\n",
       "      <td>646</td>\n",
       "      <td>646</td>\n",
       "      <td>646</td>\n",
       "      <td>646</td>\n",
       "    </tr>\n",
       "    <tr>\n",
       "      <th>10</th>\n",
       "      <td>1</td>\n",
       "      <td>1</td>\n",
       "      <td>1</td>\n",
       "      <td>1</td>\n",
       "      <td>1</td>\n",
       "      <td>1</td>\n",
       "      <td>1</td>\n",
       "      <td>1</td>\n",
       "      <td>1</td>\n",
       "      <td>1</td>\n",
       "      <td>1</td>\n",
       "    </tr>\n",
       "    <tr>\n",
       "      <th>2</th>\n",
       "      <td>44</td>\n",
       "      <td>44</td>\n",
       "      <td>44</td>\n",
       "      <td>44</td>\n",
       "      <td>44</td>\n",
       "      <td>44</td>\n",
       "      <td>44</td>\n",
       "      <td>44</td>\n",
       "      <td>44</td>\n",
       "      <td>44</td>\n",
       "      <td>44</td>\n",
       "    </tr>\n",
       "    <tr>\n",
       "      <th>3</th>\n",
       "      <td>335</td>\n",
       "      <td>335</td>\n",
       "      <td>335</td>\n",
       "      <td>335</td>\n",
       "      <td>335</td>\n",
       "      <td>335</td>\n",
       "      <td>335</td>\n",
       "      <td>335</td>\n",
       "      <td>335</td>\n",
       "      <td>335</td>\n",
       "      <td>335</td>\n",
       "    </tr>\n",
       "    <tr>\n",
       "      <th>4</th>\n",
       "      <td>201</td>\n",
       "      <td>201</td>\n",
       "      <td>201</td>\n",
       "      <td>201</td>\n",
       "      <td>201</td>\n",
       "      <td>201</td>\n",
       "      <td>201</td>\n",
       "      <td>201</td>\n",
       "      <td>201</td>\n",
       "      <td>201</td>\n",
       "      <td>201</td>\n",
       "    </tr>\n",
       "    <tr>\n",
       "      <th>5</th>\n",
       "      <td>10</td>\n",
       "      <td>10</td>\n",
       "      <td>10</td>\n",
       "      <td>10</td>\n",
       "      <td>10</td>\n",
       "      <td>10</td>\n",
       "      <td>10</td>\n",
       "      <td>10</td>\n",
       "      <td>10</td>\n",
       "      <td>10</td>\n",
       "      <td>10</td>\n",
       "    </tr>\n",
       "    <tr>\n",
       "      <th>6</th>\n",
       "      <td>10</td>\n",
       "      <td>10</td>\n",
       "      <td>10</td>\n",
       "      <td>10</td>\n",
       "      <td>10</td>\n",
       "      <td>10</td>\n",
       "      <td>10</td>\n",
       "      <td>10</td>\n",
       "      <td>10</td>\n",
       "      <td>10</td>\n",
       "      <td>10</td>\n",
       "    </tr>\n",
       "    <tr>\n",
       "      <th>7</th>\n",
       "      <td>64</td>\n",
       "      <td>64</td>\n",
       "      <td>64</td>\n",
       "      <td>64</td>\n",
       "      <td>64</td>\n",
       "      <td>64</td>\n",
       "      <td>64</td>\n",
       "      <td>64</td>\n",
       "      <td>64</td>\n",
       "      <td>64</td>\n",
       "      <td>64</td>\n",
       "    </tr>\n",
       "  </tbody>\n",
       "</table>\n",
       "</div>"
      ],
      "text/plain": [
       "     user_id    Q1  Total Traffic(MB)  Downlink Throughput(Kbps)  \\\n",
       "Q2                                                                 \n",
       " 05        1     1                  1                          1   \n",
       " 1         1     1                  1                          1   \n",
       " 2       140   140                140                        140   \n",
       " 27        1     1                  1                          1   \n",
       " 3       370   370                370                        370   \n",
       " 34        1     1                  1                          1   \n",
       " 4       424   424                424                        424   \n",
       " 5       211   211                211                        211   \n",
       " 6         3     3                  3                          3   \n",
       " 7        22    22                 22                         22   \n",
       "0       1087  1087               1087                       1087   \n",
       "1        646   646                646                        646   \n",
       "10         1     1                  1                          1   \n",
       "2         44    44                 44                         44   \n",
       "3        335   335                335                        335   \n",
       "4        201   201                201                        201   \n",
       "5         10    10                 10                         10   \n",
       "6         10    10                 10                         10   \n",
       "7         64    64                 64                         64   \n",
       "\n",
       "     Uplink Throughput(Kbps)  Downlink TCP Retransmission Rate(%)  \\\n",
       "Q2                                                                  \n",
       " 05                        1                                    1   \n",
       " 1                         1                                    1   \n",
       " 2                       140                                  140   \n",
       " 27                        1                                    1   \n",
       " 3                       370                                  370   \n",
       " 34                        1                                    1   \n",
       " 4                       424                                  424   \n",
       " 5                       211                                  211   \n",
       " 6                         3                                    3   \n",
       " 7                        22                                   22   \n",
       "0                       1087                                 1087   \n",
       "1                        646                                  646   \n",
       "10                         1                                    1   \n",
       "2                         44                                   44   \n",
       "3                        335                                  335   \n",
       "4                        201                                  201   \n",
       "5                         10                                   10   \n",
       "6                         10                                   10   \n",
       "7                         64                                   64   \n",
       "\n",
       "     Video Streaming Download Throughput(Kbps)  \\\n",
       "Q2                                               \n",
       " 05                                          1   \n",
       " 1                                           1   \n",
       " 2                                         140   \n",
       " 27                                          1   \n",
       " 3                                         370   \n",
       " 34                                          1   \n",
       " 4                                         424   \n",
       " 5                                         211   \n",
       " 6                                           3   \n",
       " 7                                          22   \n",
       "0                                         1087   \n",
       "1                                          646   \n",
       "10                                           1   \n",
       "2                                           44   \n",
       "3                                          335   \n",
       "4                                          201   \n",
       "5                                           10   \n",
       "6                                           10   \n",
       "7                                           64   \n",
       "\n",
       "     Video Streaming xKB Start Delay(ms)  Web Page Download Throughput(Kbps)  \\\n",
       "Q2                                                                             \n",
       " 05                                    1                                   1   \n",
       " 1                                     1                                   1   \n",
       " 2                                   140                                 140   \n",
       " 27                                    1                                   1   \n",
       " 3                                   370                                 370   \n",
       " 34                                    1                                   1   \n",
       " 4                                   424                                 424   \n",
       " 5                                   211                                 211   \n",
       " 6                                     3                                   3   \n",
       " 7                                    22                                  22   \n",
       "0                                   1087                                1087   \n",
       "1                                    646                                 646   \n",
       "10                                     1                                   1   \n",
       "2                                     44                                  44   \n",
       "3                                    335                                 335   \n",
       "4                                    201                                 201   \n",
       "5                                     10                                  10   \n",
       "6                                     10                                  10   \n",
       "7                                     64                                  64   \n",
       "\n",
       "     Web Average TCP RTT(ms)  quality  \n",
       "Q2                                     \n",
       " 05                        1        1  \n",
       " 1                         1        1  \n",
       " 2                       140      140  \n",
       " 27                        1        1  \n",
       " 3                       370      370  \n",
       " 34                        1        1  \n",
       " 4                       424      424  \n",
       " 5                       211      211  \n",
       " 6                         3        3  \n",
       " 7                        22       22  \n",
       "0                       1087     1087  \n",
       "1                        646      646  \n",
       "10                         1        1  \n",
       "2                         44       44  \n",
       "3                        335      335  \n",
       "4                        201      201  \n",
       "5                         10       10  \n",
       "6                         10       10  \n",
       "7                         64       64  "
      ]
     },
     "execution_count": 17,
     "metadata": {},
     "output_type": "execute_result"
    }
   ],
   "source": [
    "df.groupby('Q2').count()"
   ]
  },
  {
   "cell_type": "code",
   "execution_count": 18,
   "metadata": {},
   "outputs": [],
   "source": [
    "def union(x):\n",
    "    ### функция для удаления пробелов в значениях\n",
    "    return x.replace(' ', '')"
   ]
  },
  {
   "cell_type": "code",
   "execution_count": 19,
   "metadata": {},
   "outputs": [],
   "source": [
    "df['Q2'] = df['Q2'].astype(str).apply(union)"
   ]
  },
  {
   "cell_type": "code",
   "execution_count": 20,
   "metadata": {},
   "outputs": [
    {
     "data": {
      "text/html": [
       "<div>\n",
       "<style scoped>\n",
       "    .dataframe tbody tr th:only-of-type {\n",
       "        vertical-align: middle;\n",
       "    }\n",
       "\n",
       "    .dataframe tbody tr th {\n",
       "        vertical-align: top;\n",
       "    }\n",
       "\n",
       "    .dataframe thead th {\n",
       "        text-align: right;\n",
       "    }\n",
       "</style>\n",
       "<table border=\"1\" class=\"dataframe\">\n",
       "  <thead>\n",
       "    <tr style=\"text-align: right;\">\n",
       "      <th></th>\n",
       "      <th>user_id</th>\n",
       "      <th>Q1</th>\n",
       "      <th>Total Traffic(MB)</th>\n",
       "      <th>Downlink Throughput(Kbps)</th>\n",
       "      <th>Uplink Throughput(Kbps)</th>\n",
       "      <th>Downlink TCP Retransmission Rate(%)</th>\n",
       "      <th>Video Streaming Download Throughput(Kbps)</th>\n",
       "      <th>Video Streaming xKB Start Delay(ms)</th>\n",
       "      <th>Web Page Download Throughput(Kbps)</th>\n",
       "      <th>Web Average TCP RTT(ms)</th>\n",
       "      <th>quality</th>\n",
       "    </tr>\n",
       "    <tr>\n",
       "      <th>Q2</th>\n",
       "      <th></th>\n",
       "      <th></th>\n",
       "      <th></th>\n",
       "      <th></th>\n",
       "      <th></th>\n",
       "      <th></th>\n",
       "      <th></th>\n",
       "      <th></th>\n",
       "      <th></th>\n",
       "      <th></th>\n",
       "      <th></th>\n",
       "    </tr>\n",
       "  </thead>\n",
       "  <tbody>\n",
       "    <tr>\n",
       "      <th>0</th>\n",
       "      <td>1087</td>\n",
       "      <td>1087</td>\n",
       "      <td>1087</td>\n",
       "      <td>1087</td>\n",
       "      <td>1087</td>\n",
       "      <td>1087</td>\n",
       "      <td>1087</td>\n",
       "      <td>1087</td>\n",
       "      <td>1087</td>\n",
       "      <td>1087</td>\n",
       "      <td>1087</td>\n",
       "    </tr>\n",
       "    <tr>\n",
       "      <th>05</th>\n",
       "      <td>1</td>\n",
       "      <td>1</td>\n",
       "      <td>1</td>\n",
       "      <td>1</td>\n",
       "      <td>1</td>\n",
       "      <td>1</td>\n",
       "      <td>1</td>\n",
       "      <td>1</td>\n",
       "      <td>1</td>\n",
       "      <td>1</td>\n",
       "      <td>1</td>\n",
       "    </tr>\n",
       "    <tr>\n",
       "      <th>1</th>\n",
       "      <td>647</td>\n",
       "      <td>647</td>\n",
       "      <td>647</td>\n",
       "      <td>647</td>\n",
       "      <td>647</td>\n",
       "      <td>647</td>\n",
       "      <td>647</td>\n",
       "      <td>647</td>\n",
       "      <td>647</td>\n",
       "      <td>647</td>\n",
       "      <td>647</td>\n",
       "    </tr>\n",
       "    <tr>\n",
       "      <th>10</th>\n",
       "      <td>1</td>\n",
       "      <td>1</td>\n",
       "      <td>1</td>\n",
       "      <td>1</td>\n",
       "      <td>1</td>\n",
       "      <td>1</td>\n",
       "      <td>1</td>\n",
       "      <td>1</td>\n",
       "      <td>1</td>\n",
       "      <td>1</td>\n",
       "      <td>1</td>\n",
       "    </tr>\n",
       "    <tr>\n",
       "      <th>2</th>\n",
       "      <td>184</td>\n",
       "      <td>184</td>\n",
       "      <td>184</td>\n",
       "      <td>184</td>\n",
       "      <td>184</td>\n",
       "      <td>184</td>\n",
       "      <td>184</td>\n",
       "      <td>184</td>\n",
       "      <td>184</td>\n",
       "      <td>184</td>\n",
       "      <td>184</td>\n",
       "    </tr>\n",
       "    <tr>\n",
       "      <th>27</th>\n",
       "      <td>1</td>\n",
       "      <td>1</td>\n",
       "      <td>1</td>\n",
       "      <td>1</td>\n",
       "      <td>1</td>\n",
       "      <td>1</td>\n",
       "      <td>1</td>\n",
       "      <td>1</td>\n",
       "      <td>1</td>\n",
       "      <td>1</td>\n",
       "      <td>1</td>\n",
       "    </tr>\n",
       "    <tr>\n",
       "      <th>3</th>\n",
       "      <td>705</td>\n",
       "      <td>705</td>\n",
       "      <td>705</td>\n",
       "      <td>705</td>\n",
       "      <td>705</td>\n",
       "      <td>705</td>\n",
       "      <td>705</td>\n",
       "      <td>705</td>\n",
       "      <td>705</td>\n",
       "      <td>705</td>\n",
       "      <td>705</td>\n",
       "    </tr>\n",
       "    <tr>\n",
       "      <th>34</th>\n",
       "      <td>1</td>\n",
       "      <td>1</td>\n",
       "      <td>1</td>\n",
       "      <td>1</td>\n",
       "      <td>1</td>\n",
       "      <td>1</td>\n",
       "      <td>1</td>\n",
       "      <td>1</td>\n",
       "      <td>1</td>\n",
       "      <td>1</td>\n",
       "      <td>1</td>\n",
       "    </tr>\n",
       "    <tr>\n",
       "      <th>4</th>\n",
       "      <td>625</td>\n",
       "      <td>625</td>\n",
       "      <td>625</td>\n",
       "      <td>625</td>\n",
       "      <td>625</td>\n",
       "      <td>625</td>\n",
       "      <td>625</td>\n",
       "      <td>625</td>\n",
       "      <td>625</td>\n",
       "      <td>625</td>\n",
       "      <td>625</td>\n",
       "    </tr>\n",
       "    <tr>\n",
       "      <th>5</th>\n",
       "      <td>221</td>\n",
       "      <td>221</td>\n",
       "      <td>221</td>\n",
       "      <td>221</td>\n",
       "      <td>221</td>\n",
       "      <td>221</td>\n",
       "      <td>221</td>\n",
       "      <td>221</td>\n",
       "      <td>221</td>\n",
       "      <td>221</td>\n",
       "      <td>221</td>\n",
       "    </tr>\n",
       "    <tr>\n",
       "      <th>6</th>\n",
       "      <td>13</td>\n",
       "      <td>13</td>\n",
       "      <td>13</td>\n",
       "      <td>13</td>\n",
       "      <td>13</td>\n",
       "      <td>13</td>\n",
       "      <td>13</td>\n",
       "      <td>13</td>\n",
       "      <td>13</td>\n",
       "      <td>13</td>\n",
       "      <td>13</td>\n",
       "    </tr>\n",
       "    <tr>\n",
       "      <th>7</th>\n",
       "      <td>86</td>\n",
       "      <td>86</td>\n",
       "      <td>86</td>\n",
       "      <td>86</td>\n",
       "      <td>86</td>\n",
       "      <td>86</td>\n",
       "      <td>86</td>\n",
       "      <td>86</td>\n",
       "      <td>86</td>\n",
       "      <td>86</td>\n",
       "      <td>86</td>\n",
       "    </tr>\n",
       "  </tbody>\n",
       "</table>\n",
       "</div>"
      ],
      "text/plain": [
       "    user_id    Q1  Total Traffic(MB)  Downlink Throughput(Kbps)  \\\n",
       "Q2                                                                \n",
       "0      1087  1087               1087                       1087   \n",
       "05        1     1                  1                          1   \n",
       "1       647   647                647                        647   \n",
       "10        1     1                  1                          1   \n",
       "2       184   184                184                        184   \n",
       "27        1     1                  1                          1   \n",
       "3       705   705                705                        705   \n",
       "34        1     1                  1                          1   \n",
       "4       625   625                625                        625   \n",
       "5       221   221                221                        221   \n",
       "6        13    13                 13                         13   \n",
       "7        86    86                 86                         86   \n",
       "\n",
       "    Uplink Throughput(Kbps)  Downlink TCP Retransmission Rate(%)  \\\n",
       "Q2                                                                 \n",
       "0                      1087                                 1087   \n",
       "05                        1                                    1   \n",
       "1                       647                                  647   \n",
       "10                        1                                    1   \n",
       "2                       184                                  184   \n",
       "27                        1                                    1   \n",
       "3                       705                                  705   \n",
       "34                        1                                    1   \n",
       "4                       625                                  625   \n",
       "5                       221                                  221   \n",
       "6                        13                                   13   \n",
       "7                        86                                   86   \n",
       "\n",
       "    Video Streaming Download Throughput(Kbps)  \\\n",
       "Q2                                              \n",
       "0                                        1087   \n",
       "05                                          1   \n",
       "1                                         647   \n",
       "10                                          1   \n",
       "2                                         184   \n",
       "27                                          1   \n",
       "3                                         705   \n",
       "34                                          1   \n",
       "4                                         625   \n",
       "5                                         221   \n",
       "6                                          13   \n",
       "7                                          86   \n",
       "\n",
       "    Video Streaming xKB Start Delay(ms)  Web Page Download Throughput(Kbps)  \\\n",
       "Q2                                                                            \n",
       "0                                  1087                                1087   \n",
       "05                                    1                                   1   \n",
       "1                                   647                                 647   \n",
       "10                                    1                                   1   \n",
       "2                                   184                                 184   \n",
       "27                                    1                                   1   \n",
       "3                                   705                                 705   \n",
       "34                                    1                                   1   \n",
       "4                                   625                                 625   \n",
       "5                                   221                                 221   \n",
       "6                                    13                                  13   \n",
       "7                                    86                                  86   \n",
       "\n",
       "    Web Average TCP RTT(ms)  quality  \n",
       "Q2                                    \n",
       "0                      1087     1087  \n",
       "05                        1        1  \n",
       "1                       647      647  \n",
       "10                        1        1  \n",
       "2                       184      184  \n",
       "27                        1        1  \n",
       "3                       705      705  \n",
       "34                        1        1  \n",
       "4                       625      625  \n",
       "5                       221      221  \n",
       "6                        13       13  \n",
       "7                        86       86  "
      ]
     },
     "execution_count": 20,
     "metadata": {},
     "output_type": "execute_result"
    }
   ],
   "source": [
    "df.groupby('Q2').count()"
   ]
  },
  {
   "cell_type": "code",
   "execution_count": 21,
   "metadata": {},
   "outputs": [],
   "source": [
    "# удаляем строки с некорректными значениями(4 строки)\n",
    "dfq = df[(df['Q2'] == '05') | (df['Q2'] == '10') | (df['Q2'] == '27') | (df['Q2'] == '34')]\n",
    "df = df.drop(dfq.index)"
   ]
  },
  {
   "cell_type": "code",
   "execution_count": 22,
   "metadata": {},
   "outputs": [
    {
     "data": {
      "text/html": [
       "<div>\n",
       "<style scoped>\n",
       "    .dataframe tbody tr th:only-of-type {\n",
       "        vertical-align: middle;\n",
       "    }\n",
       "\n",
       "    .dataframe tbody tr th {\n",
       "        vertical-align: top;\n",
       "    }\n",
       "\n",
       "    .dataframe thead th {\n",
       "        text-align: right;\n",
       "    }\n",
       "</style>\n",
       "<table border=\"1\" class=\"dataframe\">\n",
       "  <thead>\n",
       "    <tr style=\"text-align: right;\">\n",
       "      <th></th>\n",
       "      <th>user_id</th>\n",
       "      <th>Q1</th>\n",
       "      <th>Total Traffic(MB)</th>\n",
       "      <th>Downlink Throughput(Kbps)</th>\n",
       "      <th>Uplink Throughput(Kbps)</th>\n",
       "      <th>Downlink TCP Retransmission Rate(%)</th>\n",
       "      <th>Video Streaming Download Throughput(Kbps)</th>\n",
       "      <th>Video Streaming xKB Start Delay(ms)</th>\n",
       "      <th>Web Page Download Throughput(Kbps)</th>\n",
       "      <th>Web Average TCP RTT(ms)</th>\n",
       "      <th>quality</th>\n",
       "    </tr>\n",
       "    <tr>\n",
       "      <th>Q2</th>\n",
       "      <th></th>\n",
       "      <th></th>\n",
       "      <th></th>\n",
       "      <th></th>\n",
       "      <th></th>\n",
       "      <th></th>\n",
       "      <th></th>\n",
       "      <th></th>\n",
       "      <th></th>\n",
       "      <th></th>\n",
       "      <th></th>\n",
       "    </tr>\n",
       "  </thead>\n",
       "  <tbody>\n",
       "    <tr>\n",
       "      <th>0</th>\n",
       "      <td>1087</td>\n",
       "      <td>1087</td>\n",
       "      <td>1087</td>\n",
       "      <td>1087</td>\n",
       "      <td>1087</td>\n",
       "      <td>1087</td>\n",
       "      <td>1087</td>\n",
       "      <td>1087</td>\n",
       "      <td>1087</td>\n",
       "      <td>1087</td>\n",
       "      <td>1087</td>\n",
       "    </tr>\n",
       "    <tr>\n",
       "      <th>1</th>\n",
       "      <td>647</td>\n",
       "      <td>647</td>\n",
       "      <td>647</td>\n",
       "      <td>647</td>\n",
       "      <td>647</td>\n",
       "      <td>647</td>\n",
       "      <td>647</td>\n",
       "      <td>647</td>\n",
       "      <td>647</td>\n",
       "      <td>647</td>\n",
       "      <td>647</td>\n",
       "    </tr>\n",
       "    <tr>\n",
       "      <th>2</th>\n",
       "      <td>184</td>\n",
       "      <td>184</td>\n",
       "      <td>184</td>\n",
       "      <td>184</td>\n",
       "      <td>184</td>\n",
       "      <td>184</td>\n",
       "      <td>184</td>\n",
       "      <td>184</td>\n",
       "      <td>184</td>\n",
       "      <td>184</td>\n",
       "      <td>184</td>\n",
       "    </tr>\n",
       "    <tr>\n",
       "      <th>3</th>\n",
       "      <td>705</td>\n",
       "      <td>705</td>\n",
       "      <td>705</td>\n",
       "      <td>705</td>\n",
       "      <td>705</td>\n",
       "      <td>705</td>\n",
       "      <td>705</td>\n",
       "      <td>705</td>\n",
       "      <td>705</td>\n",
       "      <td>705</td>\n",
       "      <td>705</td>\n",
       "    </tr>\n",
       "    <tr>\n",
       "      <th>4</th>\n",
       "      <td>625</td>\n",
       "      <td>625</td>\n",
       "      <td>625</td>\n",
       "      <td>625</td>\n",
       "      <td>625</td>\n",
       "      <td>625</td>\n",
       "      <td>625</td>\n",
       "      <td>625</td>\n",
       "      <td>625</td>\n",
       "      <td>625</td>\n",
       "      <td>625</td>\n",
       "    </tr>\n",
       "    <tr>\n",
       "      <th>5</th>\n",
       "      <td>221</td>\n",
       "      <td>221</td>\n",
       "      <td>221</td>\n",
       "      <td>221</td>\n",
       "      <td>221</td>\n",
       "      <td>221</td>\n",
       "      <td>221</td>\n",
       "      <td>221</td>\n",
       "      <td>221</td>\n",
       "      <td>221</td>\n",
       "      <td>221</td>\n",
       "    </tr>\n",
       "    <tr>\n",
       "      <th>6</th>\n",
       "      <td>13</td>\n",
       "      <td>13</td>\n",
       "      <td>13</td>\n",
       "      <td>13</td>\n",
       "      <td>13</td>\n",
       "      <td>13</td>\n",
       "      <td>13</td>\n",
       "      <td>13</td>\n",
       "      <td>13</td>\n",
       "      <td>13</td>\n",
       "      <td>13</td>\n",
       "    </tr>\n",
       "    <tr>\n",
       "      <th>7</th>\n",
       "      <td>86</td>\n",
       "      <td>86</td>\n",
       "      <td>86</td>\n",
       "      <td>86</td>\n",
       "      <td>86</td>\n",
       "      <td>86</td>\n",
       "      <td>86</td>\n",
       "      <td>86</td>\n",
       "      <td>86</td>\n",
       "      <td>86</td>\n",
       "      <td>86</td>\n",
       "    </tr>\n",
       "  </tbody>\n",
       "</table>\n",
       "</div>"
      ],
      "text/plain": [
       "    user_id    Q1  Total Traffic(MB)  Downlink Throughput(Kbps)  \\\n",
       "Q2                                                                \n",
       "0      1087  1087               1087                       1087   \n",
       "1       647   647                647                        647   \n",
       "2       184   184                184                        184   \n",
       "3       705   705                705                        705   \n",
       "4       625   625                625                        625   \n",
       "5       221   221                221                        221   \n",
       "6        13    13                 13                         13   \n",
       "7        86    86                 86                         86   \n",
       "\n",
       "    Uplink Throughput(Kbps)  Downlink TCP Retransmission Rate(%)  \\\n",
       "Q2                                                                 \n",
       "0                      1087                                 1087   \n",
       "1                       647                                  647   \n",
       "2                       184                                  184   \n",
       "3                       705                                  705   \n",
       "4                       625                                  625   \n",
       "5                       221                                  221   \n",
       "6                        13                                   13   \n",
       "7                        86                                   86   \n",
       "\n",
       "    Video Streaming Download Throughput(Kbps)  \\\n",
       "Q2                                              \n",
       "0                                        1087   \n",
       "1                                         647   \n",
       "2                                         184   \n",
       "3                                         705   \n",
       "4                                         625   \n",
       "5                                         221   \n",
       "6                                          13   \n",
       "7                                          86   \n",
       "\n",
       "    Video Streaming xKB Start Delay(ms)  Web Page Download Throughput(Kbps)  \\\n",
       "Q2                                                                            \n",
       "0                                  1087                                1087   \n",
       "1                                   647                                 647   \n",
       "2                                   184                                 184   \n",
       "3                                   705                                 705   \n",
       "4                                   625                                 625   \n",
       "5                                   221                                 221   \n",
       "6                                    13                                  13   \n",
       "7                                    86                                  86   \n",
       "\n",
       "    Web Average TCP RTT(ms)  quality  \n",
       "Q2                                    \n",
       "0                      1087     1087  \n",
       "1                       647      647  \n",
       "2                       184      184  \n",
       "3                       705      705  \n",
       "4                       625      625  \n",
       "5                       221      221  \n",
       "6                        13       13  \n",
       "7                        86       86  "
      ]
     },
     "execution_count": 22,
     "metadata": {},
     "output_type": "execute_result"
    }
   ],
   "source": [
    "df.groupby('Q2').count()"
   ]
  },
  {
   "cell_type": "code",
   "execution_count": 23,
   "metadata": {},
   "outputs": [
    {
     "data": {
      "text/html": [
       "<div>\n",
       "<style scoped>\n",
       "    .dataframe tbody tr th:only-of-type {\n",
       "        vertical-align: middle;\n",
       "    }\n",
       "\n",
       "    .dataframe tbody tr th {\n",
       "        vertical-align: top;\n",
       "    }\n",
       "\n",
       "    .dataframe thead th {\n",
       "        text-align: right;\n",
       "    }\n",
       "</style>\n",
       "<table border=\"1\" class=\"dataframe\">\n",
       "  <thead>\n",
       "    <tr style=\"text-align: right;\">\n",
       "      <th></th>\n",
       "      <th>user_id</th>\n",
       "      <th>Q1</th>\n",
       "      <th>Q2</th>\n",
       "      <th>Total Traffic(MB)</th>\n",
       "      <th>Downlink Throughput(Kbps)</th>\n",
       "      <th>Uplink Throughput(Kbps)</th>\n",
       "      <th>Downlink TCP Retransmission Rate(%)</th>\n",
       "      <th>Video Streaming Download Throughput(Kbps)</th>\n",
       "      <th>Video Streaming xKB Start Delay(ms)</th>\n",
       "      <th>Web Page Download Throughput(Kbps)</th>\n",
       "      <th>Web Average TCP RTT(ms)</th>\n",
       "    </tr>\n",
       "    <tr>\n",
       "      <th>quality</th>\n",
       "      <th></th>\n",
       "      <th></th>\n",
       "      <th></th>\n",
       "      <th></th>\n",
       "      <th></th>\n",
       "      <th></th>\n",
       "      <th></th>\n",
       "      <th></th>\n",
       "      <th></th>\n",
       "      <th></th>\n",
       "      <th></th>\n",
       "    </tr>\n",
       "  </thead>\n",
       "  <tbody>\n",
       "    <tr>\n",
       "      <th>bad</th>\n",
       "      <td>2484</td>\n",
       "      <td>2484</td>\n",
       "      <td>2484</td>\n",
       "      <td>2484</td>\n",
       "      <td>2484</td>\n",
       "      <td>2484</td>\n",
       "      <td>2484</td>\n",
       "      <td>2484</td>\n",
       "      <td>2484</td>\n",
       "      <td>2484</td>\n",
       "      <td>2484</td>\n",
       "    </tr>\n",
       "    <tr>\n",
       "      <th>good</th>\n",
       "      <td>1084</td>\n",
       "      <td>1084</td>\n",
       "      <td>1084</td>\n",
       "      <td>1084</td>\n",
       "      <td>1084</td>\n",
       "      <td>1084</td>\n",
       "      <td>1084</td>\n",
       "      <td>1084</td>\n",
       "      <td>1084</td>\n",
       "      <td>1084</td>\n",
       "      <td>1084</td>\n",
       "    </tr>\n",
       "  </tbody>\n",
       "</table>\n",
       "</div>"
      ],
      "text/plain": [
       "         user_id    Q1    Q2  Total Traffic(MB)  Downlink Throughput(Kbps)  \\\n",
       "quality                                                                      \n",
       "bad         2484  2484  2484               2484                       2484   \n",
       "good        1084  1084  1084               1084                       1084   \n",
       "\n",
       "         Uplink Throughput(Kbps)  Downlink TCP Retransmission Rate(%)  \\\n",
       "quality                                                                 \n",
       "bad                         2484                                 2484   \n",
       "good                        1084                                 1084   \n",
       "\n",
       "         Video Streaming Download Throughput(Kbps)  \\\n",
       "quality                                              \n",
       "bad                                           2484   \n",
       "good                                          1084   \n",
       "\n",
       "         Video Streaming xKB Start Delay(ms)  \\\n",
       "quality                                        \n",
       "bad                                     2484   \n",
       "good                                    1084   \n",
       "\n",
       "         Web Page Download Throughput(Kbps)  Web Average TCP RTT(ms)  \n",
       "quality                                                               \n",
       "bad                                    2484                     2484  \n",
       "good                                   1084                     1084  "
      ]
     },
     "execution_count": 23,
     "metadata": {},
     "output_type": "execute_result"
    }
   ],
   "source": [
    "df.groupby('quality').count()"
   ]
  },
  {
   "cell_type": "code",
   "execution_count": 24,
   "metadata": {},
   "outputs": [],
   "source": [
    "df['Q2'] = df['Q2'].astype(int)"
   ]
  },
  {
   "cell_type": "code",
   "execution_count": 25,
   "metadata": {},
   "outputs": [],
   "source": [
    "# удалим нулевые значения в группе bad  столбца Q2\n",
    "df =  df.drop(df[(df['quality'] == 'bad') & (df['Q2'] == 0)].index)"
   ]
  },
  {
   "cell_type": "code",
   "execution_count": 26,
   "metadata": {},
   "outputs": [],
   "source": [
    "# изменим категориальные значения столбца \"quality\" на цифровые значения\n",
    "mapping = {\"good\": 1, \"bad\": 0}\n",
    "df['quality'] = df['quality'].map(mapping)"
   ]
  },
  {
   "cell_type": "code",
   "execution_count": 27,
   "metadata": {},
   "outputs": [],
   "source": [
    "df['quality'] = df['quality'].astype(int)"
   ]
  },
  {
   "cell_type": "markdown",
   "metadata": {},
   "source": [
    "#### <font color='yellow'>Для выявления коррелирующих признаков в датафрейме построим матрицу корреляции признаков и визуализируем полученную матрицу для визуальной оценки коррелирующих признаков.</font>"
   ]
  },
  {
   "cell_type": "code",
   "execution_count": 28,
   "metadata": {},
   "outputs": [
    {
     "data": {
      "image/png": "[encoded data removed]",
      "text/plain": [
       "<Figure size 1008x864 with 2 Axes>"
      ]
     },
     "metadata": {
      "needs_background": "light"
     },
     "output_type": "display_data"
    }
   ],
   "source": [
    "colormap = plt.cm.RdBu\n",
    "plt.figure(figsize=(14,12))\n",
    "plt.title('Pearson Correlation of Features', y=1.05, size=15)\n",
    "sns.heatmap(df.corr(),linewidths=0.1,vmax=1.0, \n",
    "            square=True, cmap=colormap, linecolor='white', annot=True)\n",
    "plt.show()"
   ]
  },
  {
   "cell_type": "markdown",
   "metadata": {},
   "source": [
    "#### <font color='yellow'>Наиболее коррелирующими признаками с целевым признаком 'quality' являются:</font>"
   ]
  },
  {
   "cell_type": "markdown",
   "metadata": {},
   "source": [
    "##### \"Video Streaming Download Throughput(Kbps\" - скорость загрузки видео"
   ]
  },
  {
   "cell_type": "markdown",
   "metadata": {},
   "source": [
    "##### \"Downlink Throughput(Kbps)\" - скорость скачивания"
   ]
  },
  {
   "cell_type": "markdown",
   "metadata": {},
   "source": [
    "##### Исследуем зависимость этих признаков и целевого признака 'quality'"
   ]
  },
  {
   "cell_type": "code",
   "execution_count": null,
   "metadata": {},
   "outputs": [],
   "source": []
  },
  {
   "cell_type": "markdown",
   "metadata": {},
   "source": [
    "#### <font color='yellow'>Сформулируем гипотезы для исследования данных признаков:</font>"
   ]
  },
  {
   "cell_type": "markdown",
   "metadata": {},
   "source": [
    "#### <font color='orange'>Гипотеза 1:<font> "
   ]
  },
  {
   "cell_type": "markdown",
   "metadata": {},
   "source": [
    "#### <font color='orange'>Уровень удовлетворенности качеством связи зависит от скорости загрузки видео (Video Streaming Download Throughput(Kbps)<font>"
   ]
  },
  {
   "cell_type": "code",
   "execution_count": 29,
   "metadata": {},
   "outputs": [],
   "source": [
    "# разделим данные на 2 группы по значению целевого признака \"quality\"\n",
    "df_good = df[df['quality'] == 1].reset_index().drop('index',axis=1)\n",
    "df_bad = df[df['quality'] == 0].reset_index().drop('index',axis=1)"
   ]
  },
  {
   "cell_type": "code",
   "execution_count": 30,
   "metadata": {},
   "outputs": [],
   "source": [
    "# отфильтруем значения вопросов в столбце Q2 группы bad по значению признаков так чтобы остались только ответ на вопрос, который\n",
    "# можно соотнести с признаками(то есть ответ 5 - медленная загрузка видео )\n",
    "df_bad = df_bad[df_bad['Q2'] == 5]"
   ]
  },
  {
   "cell_type": "code",
   "execution_count": 31,
   "metadata": {},
   "outputs": [
    {
     "data": {
      "text/plain": [
       "((221, 12), (1084, 12))"
      ]
     },
     "execution_count": 31,
     "metadata": {},
     "output_type": "execute_result"
    }
   ],
   "source": [
    "df_bad.shape, df_good.shape"
   ]
  },
  {
   "cell_type": "code",
   "execution_count": 32,
   "metadata": {},
   "outputs": [],
   "source": [
    "# уравняем значения выборок\n",
    "df_good = df_good.loc[0:220]"
   ]
  },
  {
   "cell_type": "code",
   "execution_count": 33,
   "metadata": {},
   "outputs": [
    {
     "data": {
      "text/plain": [
       "(221, 12)"
      ]
     },
     "execution_count": 33,
     "metadata": {},
     "output_type": "execute_result"
    }
   ],
   "source": [
    "df_good.shape"
   ]
  },
  {
   "cell_type": "code",
   "execution_count": 34,
   "metadata": {},
   "outputs": [],
   "source": [
    "# функция, которая создает две группы для исследования по заданному признаку \n",
    "def df_metric(col_name):\n",
    "    good = df_good[col_name].to_frame().reset_index().drop('index',axis=1).rename(columns={col_name : 'good'})\n",
    "    bad = df_bad[col_name].to_frame().reset_index().drop('index',axis=1).rename(columns={col_name : 'bad'})\n",
    "    df = good.merge(bad, how='left', left_index=True, right_index=True)\n",
    "    return df"
   ]
  },
  {
   "cell_type": "code",
   "execution_count": 35,
   "metadata": {},
   "outputs": [],
   "source": [
    "df_video = df_metric('Video Streaming Download Throughput(Kbps)')"
   ]
  },
  {
   "cell_type": "code",
   "execution_count": 36,
   "metadata": {},
   "outputs": [
    {
     "data": {
      "text/plain": [
       "(221, 2)"
      ]
     },
     "execution_count": 36,
     "metadata": {},
     "output_type": "execute_result"
    }
   ],
   "source": [
    "# размерность групп до начала исследования\n",
    "df_video.shape"
   ]
  },
  {
   "cell_type": "code",
   "execution_count": 37,
   "metadata": {},
   "outputs": [],
   "source": [
    "# Исследуем метрику 'Скорость загрузки видео' группы 'good' (абоненты удовлетворенные качеством связи)"
   ]
  },
  {
   "cell_type": "code",
   "execution_count": 38,
   "metadata": {},
   "outputs": [],
   "source": [
    "# функция графика распределения метрики\n",
    "def hist(col):\n",
    "    fig, ax = plt.subplots(1,1,figsize = (10,5))\n",
    "    ax.hist(col)\n",
    "    plt.xticks(fontsize=14)\n",
    "    plt.yticks(fontsize=14)\n",
    "    plt.title(f'Histigram of \"{col.name}\" groop')\n",
    "    plt.xlabel('Values')\n",
    "    plt.ylabel('Frecuency')\n",
    "    return plt.show()"
   ]
  },
  {
   "cell_type": "code",
   "execution_count": 39,
   "metadata": {},
   "outputs": [
    {
     "data": {
      "image/png": "[encoded data removed]",
      "text/plain": [
       "<Figure size 720x360 with 1 Axes>"
      ]
     },
     "metadata": {
      "needs_background": "light"
     },
     "output_type": "display_data"
    }
   ],
   "source": [
    "# Распределение метрики асимметричное\n",
    "hist(df_video['good'])"
   ]
  },
  {
   "cell_type": "code",
   "execution_count": 40,
   "metadata": {},
   "outputs": [],
   "source": [
    "# Функция описания метрики\n",
    "def describe(col):\n",
    "    return col.describe()"
   ]
  },
  {
   "cell_type": "code",
   "execution_count": 41,
   "metadata": {},
   "outputs": [
    {
     "data": {
      "text/plain": [
       "count      221.000000\n",
       "mean      6277.953982\n",
       "std       5540.570739\n",
       "min        262.270000\n",
       "25%       2627.680000\n",
       "50%       4884.890000\n",
       "75%       7971.830000\n",
       "max      46035.650000\n",
       "Name: good, dtype: float64"
      ]
     },
     "execution_count": 41,
     "metadata": {},
     "output_type": "execute_result"
    }
   ],
   "source": [
    "describe(df_video['good'])"
   ]
  },
  {
   "cell_type": "code",
   "execution_count": 42,
   "metadata": {},
   "outputs": [],
   "source": [
    "# Функция графика поиска аномальных значений\n",
    "def anomal_values(col):\n",
    "    fig, ax = plt.subplots(1,1,figsize = (5,5))\n",
    "    ax.boxplot(col)\n",
    "    plt.xticks(fontsize=8)\n",
    "    plt.yticks(fontsize=8)\n",
    "    plt.title(f'Plot search abnormal values \"{col.name}\" groop')\n",
    "    plt.xlabel(col.name)\n",
    "    plt.ylabel('Values')\n",
    "    print('abnormal values > ', np.percentile(col, 95))\n",
    "    return plt.show()"
   ]
  },
  {
   "cell_type": "code",
   "execution_count": 43,
   "metadata": {},
   "outputs": [
    {
     "name": "stdout",
     "output_type": "stream",
     "text": [
      "abnormal values >  15083.35\n"
     ]
    },
    {
     "data": {
      "image/png": "[encoded data removed]",
      "text/plain": [
       "<Figure size 360x360 with 1 Axes>"
      ]
     },
     "metadata": {
      "needs_background": "light"
     },
     "output_type": "display_data"
    }
   ],
   "source": [
    "anomal_values(df_video['good'])"
   ]
  },
  {
   "cell_type": "code",
   "execution_count": 44,
   "metadata": {},
   "outputs": [],
   "source": [
    "# Исследуем метрику 'Скорость загрузки видео' группы 'bad' (абоненты не удовлетворенные качеством связи)"
   ]
  },
  {
   "cell_type": "code",
   "execution_count": 45,
   "metadata": {},
   "outputs": [
    {
     "data": {
      "image/png": "[encoded data removed]",
      "text/plain": [
       "<Figure size 720x360 with 1 Axes>"
      ]
     },
     "metadata": {
      "needs_background": "light"
     },
     "output_type": "display_data"
    }
   ],
   "source": [
    "hist(df_video['bad'])"
   ]
  },
  {
   "cell_type": "code",
   "execution_count": 46,
   "metadata": {},
   "outputs": [
    {
     "data": {
      "text/plain": [
       "count      221.000000\n",
       "mean      3942.152986\n",
       "std       3829.497067\n",
       "min         87.340000\n",
       "25%       1490.890000\n",
       "50%       2906.820000\n",
       "75%       4624.360000\n",
       "max      26367.730000\n",
       "Name: bad, dtype: float64"
      ]
     },
     "execution_count": 46,
     "metadata": {},
     "output_type": "execute_result"
    }
   ],
   "source": [
    "# описание метрики группы bad\n",
    "describe(df_video['bad'])"
   ]
  },
  {
   "cell_type": "code",
   "execution_count": 47,
   "metadata": {},
   "outputs": [
    {
     "name": "stdout",
     "output_type": "stream",
     "text": [
      "abnormal values >  12152.42\n"
     ]
    },
    {
     "data": {
      "image/png": "[encoded data removed]",
      "text/plain": [
       "<Figure size 360x360 with 1 Axes>"
      ]
     },
     "metadata": {
      "needs_background": "light"
     },
     "output_type": "display_data"
    }
   ],
   "source": [
    "# Исследуем метрику нруппы bad на аномальные значения:\n",
    "anomal_values(df_video['bad'])"
   ]
  },
  {
   "cell_type": "code",
   "execution_count": 48,
   "metadata": {},
   "outputs": [],
   "source": [
    "# функция удаления аномальных значений в данных\n",
    "def anom_del(df,col1,col2):\n",
    "    df = df[(col1 < np.percentile(col1, 95)) & (col2 < np.percentile(col2, 95))]\n",
    "    return df"
   ]
  },
  {
   "cell_type": "code",
   "execution_count": 49,
   "metadata": {},
   "outputs": [],
   "source": [
    "# удалим аномальные значения в данных \n",
    "df_video = anom_del(df_video, df_video['good'], df_video['bad'])"
   ]
  },
  {
   "cell_type": "code",
   "execution_count": 50,
   "metadata": {},
   "outputs": [
    {
     "data": {
      "text/plain": [
       "(198, 2)"
      ]
     },
     "execution_count": 50,
     "metadata": {},
     "output_type": "execute_result"
    }
   ],
   "source": [
    "# Размерность выборок\n",
    "df_video.shape"
   ]
  },
  {
   "cell_type": "code",
   "execution_count": 51,
   "metadata": {},
   "outputs": [],
   "source": [
    "# функция бутстрепа\n",
    "def bootstrap(arr,n=100,N_TRIAL = 1000,func = np.mean):\n",
    "    res = []\n",
    "    n = min(len(arr),n)\n",
    "    # Инициализируем цикл попыток\n",
    "    for _ in range(N_TRIAL):\n",
    "        # Делаем подвыборку размера n\n",
    "        if len(arr.shape)>1:\n",
    "            ind = np.random.choice(np.arange(arr.shape[0]), size = (n,))\n",
    "            subsample = arr.iloc[ind]\n",
    "        else:\n",
    "            subsample = np.random.choice(arr, size = (n,))\n",
    "        # рассчитываем статистику\n",
    "        stat = func(subsample)\n",
    "        res.append(stat)\n",
    "    return res # shape (N_TRIAL,)"
   ]
  },
  {
   "cell_type": "code",
   "execution_count": 52,
   "metadata": {},
   "outputs": [],
   "source": [
    "# применим функцию бутстрепа так как распределение выборок несимметричное и мал размер выборок\n",
    "samples_good = bootstrap(df_video['good'], N_TRIAL=3000, func=np.mean)\n",
    "samples_bad = bootstrap(df_video['bad'],  N_TRIAL=3000, func=np.mean)"
   ]
  },
  {
   "cell_type": "code",
   "execution_count": 53,
   "metadata": {},
   "outputs": [],
   "source": [
    "# Функция визуализации гистограмм распределения и доверительных интервалов метрики обеих групп\n",
    "def interval(col1,col2):\n",
    "    ax = sns.distplot(col1,label = 'good')\n",
    "    sns.distplot(col2,ax = ax,label = 'bad')\n",
    "    ax.legend(['good','bad'],  bbox_to_anchor=(1.2, 1))\n",
    "    \n",
    "    ax.axvline(np.percentile(col1,2.5),linestyle = '-',color='r')\n",
    "    ax.axvline(np.percentile(col1,97.5),linestyle = '-',color='g')\n",
    "\n",
    "    ax.axvline(np.percentile(col2,2.5),linestyle = '--',color='r')\n",
    "    ax.axvline(np.percentile(col2,97.5),linestyle = '--',color='g')\n",
    "    \n",
    "    plt.title(f'Histigram of bootstrap, confidence intervals\\n both research groop')\n",
    "    plt.xlabel('Values')\n",
    "    plt.ylabel('Frecuency')\n",
    "    return plt.show()"
   ]
  },
  {
   "cell_type": "code",
   "execution_count": 54,
   "metadata": {},
   "outputs": [
    {
     "data": {
      "image/png": "[encoded data removed]",
      "text/plain": [
       "<Figure size 432x288 with 1 Axes>"
      ]
     },
     "metadata": {
      "needs_background": "light"
     },
     "output_type": "display_data"
    }
   ],
   "source": [
    "interval(samples_good, samples_bad)"
   ]
  },
  {
   "cell_type": "code",
   "execution_count": 55,
   "metadata": {},
   "outputs": [],
   "source": [
    "# функция разницы средних \n",
    "def average_difference(col1, col2):\n",
    "    buf = []\n",
    "    for i in range(1000):\n",
    "        good_sample = np.random.choice(col1,len(col1))\n",
    "        bad_sample = np.random.choice(col2, len(col2))\n",
    "        buf.append(np.mean(bad_sample) - np.mean(good_sample)) \n",
    "    ax_buf = sns.distplot(buf)\n",
    "    ax_buf.axvline(np.percentile(buf,2.5),linestyle = '-',color='r')\n",
    "    ax_buf.axvline(np.percentile(buf,97.5),linestyle = '-',color='r')\n",
    "    plt.title(f'Histogram of average difference\\n both research groop')\n",
    "    plt.xlabel('Values')\n",
    "    plt.ylabel('Frecuency')\n",
    "    print('min =',np.percentile(buf,2.5),'max =',np.percentile(buf,97.5))\n",
    "    return plt.show()"
   ]
  },
  {
   "cell_type": "code",
   "execution_count": 56,
   "metadata": {},
   "outputs": [
    {
     "name": "stdout",
     "output_type": "stream",
     "text": [
      "min = -2684.3202108585847 max = -1490.633457070707\n"
     ]
    },
    {
     "data": {
      "image/png": "[encoded data removed]",
      "text/plain": [
       "<Figure size 432x288 with 1 Axes>"
      ]
     },
     "metadata": {
      "needs_background": "light"
     },
     "output_type": "display_data"
    }
   ],
   "source": [
    "average_difference(df_video['good'],df_video['bad'])"
   ]
  },
  {
   "cell_type": "code",
   "execution_count": 57,
   "metadata": {},
   "outputs": [],
   "source": [
    "# функция поиска p_value  через критерий Манна-Уитни\n",
    "def p_value(col1,col2):\n",
    "    stat, p_value = stats.mannwhitneyu(col1, col2)\n",
    "    return p_value"
   ]
  },
  {
   "cell_type": "code",
   "execution_count": 58,
   "metadata": {},
   "outputs": [
    {
     "data": {
      "text/plain": [
       "3.2889617327012214e-10"
      ]
     },
     "execution_count": 58,
     "metadata": {},
     "output_type": "execute_result"
    }
   ],
   "source": [
    "p_value(df_video['good'], df_video['bad'])"
   ]
  },
  {
   "cell_type": "code",
   "execution_count": 59,
   "metadata": {},
   "outputs": [
    {
     "data": {
      "text/plain": [
       "65.45"
      ]
     },
     "execution_count": 59,
     "metadata": {},
     "output_type": "execute_result"
    }
   ],
   "source": [
    "round(df_video['good'].mean()/df_video['bad'].mean()*100 - 100,2)"
   ]
  },
  {
   "cell_type": "markdown",
   "metadata": {},
   "source": [
    "##### <font color='orange'>Доверительные интервалы выборок не пересекаются, , p_value = 3.29e-10 при уровне значимости 0.05. А также при разнице средних ноль не входит в доверительный интервал. Исходя из вышеизложенного следует вывод:<font>"
   ]
  },
  {
   "cell_type": "markdown",
   "metadata": {},
   "source": [
    "#### <font color='orange'>Гипотеза, о том что уровень удовлетворенности качеством связи зависит от скорости загрузки видео подтверждается. Между исследуемыми группами есть статистически значимые различия.. У абонентов удовлетворенных качеством связи скорость загрузки видео в среднем 65.45% выше чем у абонентов не удовлетворенных качеством связи и оставившими негативную оценку о скорости загрузки видео<font>"
   ]
  },
  {
   "cell_type": "code",
   "execution_count": null,
   "metadata": {},
   "outputs": [],
   "source": []
  },
  {
   "cell_type": "markdown",
   "metadata": {},
   "source": [
    "#### <font color='orange'>Гипотеза 2:<font>"
   ]
  },
  {
   "cell_type": "markdown",
   "metadata": {},
   "source": [
    "#### <font color='orange'>Уровень удовлетворенности качеством связи зависит от средней скорости интернета.<font>"
   ]
  },
  {
   "cell_type": "code",
   "execution_count": 60,
   "metadata": {},
   "outputs": [],
   "source": [
    "# разделим данные на 2 группы по значению целевого признака \"quality\"\n",
    "df_good = df[df['quality'] == 1].reset_index().drop('index',axis=1)\n",
    "df_bad = df[df['quality'] == 0].reset_index().drop('index',axis=1)"
   ]
  },
  {
   "cell_type": "code",
   "execution_count": 61,
   "metadata": {},
   "outputs": [],
   "source": [
    "# отфильтруем значения вопросов в столбце Q2 группы bad по значению признаков так чтобы остались только ответ на вопрос, который\n",
    "# можно соотнести с признаками(то есть ответ 4 - медленный интернет )\n",
    "df_bad = df_bad[df_bad['Q2'] == 4]"
   ]
  },
  {
   "cell_type": "code",
   "execution_count": 62,
   "metadata": {},
   "outputs": [
    {
     "data": {
      "text/plain": [
       "(625, 12)"
      ]
     },
     "execution_count": 62,
     "metadata": {},
     "output_type": "execute_result"
    }
   ],
   "source": [
    "df_bad.shape"
   ]
  },
  {
   "cell_type": "code",
   "execution_count": 63,
   "metadata": {},
   "outputs": [
    {
     "data": {
      "text/plain": [
       "(1084, 12)"
      ]
     },
     "execution_count": 63,
     "metadata": {},
     "output_type": "execute_result"
    }
   ],
   "source": [
    "df_good.shape"
   ]
  },
  {
   "cell_type": "code",
   "execution_count": 64,
   "metadata": {},
   "outputs": [],
   "source": [
    "# уравняем значения выборок\n",
    "df_good = df_good.loc[0:624]"
   ]
  },
  {
   "cell_type": "code",
   "execution_count": 65,
   "metadata": {},
   "outputs": [
    {
     "data": {
      "text/plain": [
       "(625, 12)"
      ]
     },
     "execution_count": 65,
     "metadata": {},
     "output_type": "execute_result"
    }
   ],
   "source": [
    "df_good.shape"
   ]
  },
  {
   "cell_type": "code",
   "execution_count": 66,
   "metadata": {},
   "outputs": [],
   "source": [
    "#  Показатель средней скорости интернета примем как отношение средней скорости скачивания\n",
    "# и средней скорости загрузки (Downlink Throughput(Kbps)/Uplink Throughput(Kbps))"
   ]
  },
  {
   "cell_type": "code",
   "execution_count": 67,
   "metadata": {},
   "outputs": [],
   "source": [
    "df_good['Mean_speed'] = df_good['Downlink Throughput(Kbps)']/df_good['Uplink Throughput(Kbps)']"
   ]
  },
  {
   "cell_type": "code",
   "execution_count": 68,
   "metadata": {},
   "outputs": [],
   "source": [
    "df_bad['Mean_speed'] = df_bad['Downlink Throughput(Kbps)']/df_bad['Uplink Throughput(Kbps)']"
   ]
  },
  {
   "cell_type": "code",
   "execution_count": 69,
   "metadata": {},
   "outputs": [],
   "source": [
    "# создадим две группы для исследования по заданному признаку\n",
    "df_dlink = df_metric('Mean_speed')"
   ]
  },
  {
   "cell_type": "code",
   "execution_count": 70,
   "metadata": {},
   "outputs": [],
   "source": [
    "# Исследуем метрику 'Средняя скорость скачивания' группы 'good' (абоненты удовлетворенные качеством связи)"
   ]
  },
  {
   "cell_type": "code",
   "execution_count": 71,
   "metadata": {},
   "outputs": [
    {
     "data": {
      "image/png": "[encoded data removed]",
      "text/plain": [
       "<Figure size 720x360 with 1 Axes>"
      ]
     },
     "metadata": {
      "needs_background": "light"
     },
     "output_type": "display_data"
    }
   ],
   "source": [
    "hist(df_dlink['good'])"
   ]
  },
  {
   "cell_type": "code",
   "execution_count": 72,
   "metadata": {},
   "outputs": [
    {
     "data": {
      "text/plain": [
       "count    625.000000\n",
       "mean      24.699074\n",
       "std       50.754788\n",
       "min        0.216560\n",
       "25%        5.871481\n",
       "50%       11.376434\n",
       "75%       28.110284\n",
       "max      907.984274\n",
       "Name: good, dtype: float64"
      ]
     },
     "execution_count": 72,
     "metadata": {},
     "output_type": "execute_result"
    }
   ],
   "source": [
    "describe(df_dlink['good'])"
   ]
  },
  {
   "cell_type": "code",
   "execution_count": 73,
   "metadata": {},
   "outputs": [
    {
     "name": "stdout",
     "output_type": "stream",
     "text": [
      "abnormal values >  75.03909195517026\n"
     ]
    },
    {
     "data": {
      "image/png": "[encoded data removed]",
      "text/plain": [
       "<Figure size 360x360 with 1 Axes>"
      ]
     },
     "metadata": {
      "needs_background": "light"
     },
     "output_type": "display_data"
    }
   ],
   "source": [
    "anomal_values(df_dlink['good'])"
   ]
  },
  {
   "cell_type": "code",
   "execution_count": 74,
   "metadata": {},
   "outputs": [],
   "source": [
    "# Исследуем метрику 'Средняя скорость скачивания' группы 'bad' (абоненты не удовлетворенные качеством связи)"
   ]
  },
  {
   "cell_type": "code",
   "execution_count": 75,
   "metadata": {},
   "outputs": [
    {
     "data": {
      "image/png": "[encoded data removed]",
      "text/plain": [
       "<Figure size 720x360 with 1 Axes>"
      ]
     },
     "metadata": {
      "needs_background": "light"
     },
     "output_type": "display_data"
    }
   ],
   "source": [
    "hist(df_dlink['bad'])"
   ]
  },
  {
   "cell_type": "code",
   "execution_count": 76,
   "metadata": {},
   "outputs": [
    {
     "data": {
      "text/plain": [
       "count    625.000000\n",
       "mean      16.632249\n",
       "std       23.313817\n",
       "min        0.428955\n",
       "25%        4.643731\n",
       "50%        8.750804\n",
       "75%       19.831971\n",
       "max      293.464212\n",
       "Name: bad, dtype: float64"
      ]
     },
     "execution_count": 76,
     "metadata": {},
     "output_type": "execute_result"
    }
   ],
   "source": [
    "describe(df_dlink['bad'])"
   ]
  },
  {
   "cell_type": "code",
   "execution_count": 77,
   "metadata": {},
   "outputs": [
    {
     "name": "stdout",
     "output_type": "stream",
     "text": [
      "abnormal values >  56.765711675180405\n"
     ]
    },
    {
     "data": {
      "image/png": "[encoded data removed]",
      "text/plain": [
       "<Figure size 360x360 with 1 Axes>"
      ]
     },
     "metadata": {
      "needs_background": "light"
     },
     "output_type": "display_data"
    }
   ],
   "source": [
    "anomal_values(df_dlink['bad'])"
   ]
  },
  {
   "cell_type": "code",
   "execution_count": 78,
   "metadata": {},
   "outputs": [],
   "source": [
    "# удалим аномальные значения в обеих группах данных\n",
    "df_dlink = anom_del(df_dlink, df_dlink['good'], df_dlink['bad'])"
   ]
  },
  {
   "cell_type": "code",
   "execution_count": 79,
   "metadata": {},
   "outputs": [],
   "source": [
    "# применим функцию бутстрепа так как распределение выборок несимметричное\n",
    "samples_good_dlink = bootstrap(df_dlink['good'], N_TRIAL=3000, func=np.mean)\n",
    "samples_bad_dlink = bootstrap(df_dlink['bad'],  N_TRIAL=3000, func=np.mean)"
   ]
  },
  {
   "cell_type": "code",
   "execution_count": 80,
   "metadata": {},
   "outputs": [
    {
     "data": {
      "image/png": "[encoded data removed]",
      "text/plain": [
       "<Figure size 432x288 with 1 Axes>"
      ]
     },
     "metadata": {
      "needs_background": "light"
     },
     "output_type": "display_data"
    }
   ],
   "source": [
    "# построим гистограммы распределения и доверительные интервалы обеих групп\n",
    "interval(samples_good_dlink, samples_bad_dlink)"
   ]
  },
  {
   "cell_type": "code",
   "execution_count": 81,
   "metadata": {},
   "outputs": [
    {
     "name": "stdout",
     "output_type": "stream",
     "text": [
      "min = -6.1506245423596475 max = -2.9812188407191473\n"
     ]
    },
    {
     "data": {
      "image/png": "[encoded data removed]",
      "text/plain": [
       "<Figure size 432x288 with 1 Axes>"
      ]
     },
     "metadata": {
      "needs_background": "light"
     },
     "output_type": "display_data"
    }
   ],
   "source": [
    "# График разницы средних\n",
    "average_difference(df_dlink['good'], df_dlink['bad'])"
   ]
  },
  {
   "cell_type": "code",
   "execution_count": 82,
   "metadata": {},
   "outputs": [
    {
     "data": {
      "text/plain": [
       "1.1081548384268369e-05"
      ]
     },
     "execution_count": 82,
     "metadata": {},
     "output_type": "execute_result"
    }
   ],
   "source": [
    "# p_value\n",
    "p_value(df_dlink['good'], df_dlink['bad'])"
   ]
  },
  {
   "cell_type": "code",
   "execution_count": 83,
   "metadata": {},
   "outputs": [
    {
     "data": {
      "text/plain": [
       "37.1"
      ]
     },
     "execution_count": 83,
     "metadata": {},
     "output_type": "execute_result"
    }
   ],
   "source": [
    "# отношение средних в группах good и bad\n",
    "round(df_dlink['good'].mean()/df_dlink['bad'].mean()*100 - 100,2)"
   ]
  },
  {
   "cell_type": "markdown",
   "metadata": {},
   "source": [
    "##### <font color='orange'>Доверительные интервалы выборок слабо пересекаются, , p_value = 1.1e-05 при уровне значимости 0.05. А также при разнице средних ноль не входит в доверительный интервал. Исходя из вышеизложенного следует вывод:<font>"
   ]
  },
  {
   "cell_type": "markdown",
   "metadata": {},
   "source": [
    "#### <font color='orange'>Гипотеза, о том что уровень удовлетворенности качеством связи зависит от средней скорости интернета  подтверждается. Между исследуемыми группами есть статистически значимые различия. Средняя скорость интернета у абонетов удовлетворенных качеством связи выше в среднем на 37.1% , чем у абонентов, неудовлетворенных качеством связи и оставившими негативную оценку о скорости интернета<font>"
   ]
  },
  {
   "cell_type": "code",
   "execution_count": null,
   "metadata": {},
   "outputs": [],
   "source": []
  },
  {
   "cell_type": "markdown",
   "metadata": {},
   "source": [
    "#### <font color='orange'>Гипотеза 3: <font>"
   ]
  },
  {
   "cell_type": "markdown",
   "metadata": {},
   "source": [
    "#### <font color='orange'>Уровень удовлетворенности качеством связи не зависит от среднего объема траффика (Total Traffic(MB)).<font>"
   ]
  },
  {
   "cell_type": "code",
   "execution_count": 84,
   "metadata": {},
   "outputs": [],
   "source": [
    "df_traffic = df_metric('Total Traffic(MB)')"
   ]
  },
  {
   "cell_type": "code",
   "execution_count": 85,
   "metadata": {},
   "outputs": [],
   "source": [
    "# Исследуем метрику 'объем траффика' группы 'good' (абоненты удовлетворенные качеством связи)"
   ]
  },
  {
   "cell_type": "code",
   "execution_count": 86,
   "metadata": {},
   "outputs": [
    {
     "data": {
      "image/png": "[encoded data removed]",
      "text/plain": [
       "<Figure size 720x360 with 1 Axes>"
      ]
     },
     "metadata": {
      "needs_background": "light"
     },
     "output_type": "display_data"
    }
   ],
   "source": [
    "hist(df_traffic['good'])"
   ]
  },
  {
   "cell_type": "code",
   "execution_count": 87,
   "metadata": {},
   "outputs": [
    {
     "data": {
      "text/plain": [
       "count    625.000000\n",
       "mean     406.752651\n",
       "std      220.055690\n",
       "min      100.026680\n",
       "25%      218.919860\n",
       "50%      362.040840\n",
       "75%      581.309270\n",
       "max      884.193530\n",
       "Name: good, dtype: float64"
      ]
     },
     "execution_count": 87,
     "metadata": {},
     "output_type": "execute_result"
    }
   ],
   "source": [
    "describe(df_traffic['good'])"
   ]
  },
  {
   "cell_type": "code",
   "execution_count": 88,
   "metadata": {},
   "outputs": [
    {
     "name": "stdout",
     "output_type": "stream",
     "text": [
      "abnormal values >  804.179938\n"
     ]
    },
    {
     "data": {
      "image/png": "[encoded data removed]",
      "text/plain": [
       "<Figure size 360x360 with 1 Axes>"
      ]
     },
     "metadata": {
      "needs_background": "light"
     },
     "output_type": "display_data"
    }
   ],
   "source": [
    "anomal_values(df_traffic['good'])"
   ]
  },
  {
   "cell_type": "code",
   "execution_count": 89,
   "metadata": {},
   "outputs": [],
   "source": [
    "# Исследуем метрику 'объем траффика' группы 'bad' (абоненты не удовлетворенные качеством связи)"
   ]
  },
  {
   "cell_type": "code",
   "execution_count": 90,
   "metadata": {},
   "outputs": [
    {
     "data": {
      "image/png": "[encoded data removed]",
      "text/plain": [
       "<Figure size 720x360 with 1 Axes>"
      ]
     },
     "metadata": {
      "needs_background": "light"
     },
     "output_type": "display_data"
    }
   ],
   "source": [
    "hist(df_traffic['bad'])"
   ]
  },
  {
   "cell_type": "code",
   "execution_count": 91,
   "metadata": {},
   "outputs": [
    {
     "data": {
      "text/plain": [
       "count    625.000000\n",
       "mean     415.249924\n",
       "std      217.210009\n",
       "min      100.035380\n",
       "25%      231.081070\n",
       "50%      380.390560\n",
       "75%      567.984070\n",
       "max      885.256780\n",
       "Name: bad, dtype: float64"
      ]
     },
     "execution_count": 91,
     "metadata": {},
     "output_type": "execute_result"
    }
   ],
   "source": [
    "describe(df_traffic['bad'])"
   ]
  },
  {
   "cell_type": "code",
   "execution_count": 92,
   "metadata": {},
   "outputs": [
    {
     "name": "stdout",
     "output_type": "stream",
     "text": [
      "abnormal values >  806.0818899999998\n"
     ]
    },
    {
     "data": {
      "image/png": "[encoded data removed]",
      "text/plain": [
       "<Figure size 360x360 with 1 Axes>"
      ]
     },
     "metadata": {
      "needs_background": "light"
     },
     "output_type": "display_data"
    }
   ],
   "source": [
    "anomal_values(df_traffic['bad'])"
   ]
  },
  {
   "cell_type": "code",
   "execution_count": 93,
   "metadata": {},
   "outputs": [],
   "source": [
    "# Аномальных значений в данных не обнаружено"
   ]
  },
  {
   "cell_type": "code",
   "execution_count": 94,
   "metadata": {},
   "outputs": [],
   "source": [
    "# применим бутстреп так как распределение метрики ассиметричное  и мал размер выборок\n",
    "samples_traffic_good = bootstrap(df_traffic['good'], N_TRIAL=3000, func=np.mean)\n",
    "samples_traffic_bad = bootstrap(df_traffic['bad'],  N_TRIAL=3000, func=np.mean)"
   ]
  },
  {
   "cell_type": "code",
   "execution_count": 95,
   "metadata": {},
   "outputs": [
    {
     "data": {
      "image/png": "[encoded data removed]",
      "text/plain": [
       "<Figure size 432x288 with 1 Axes>"
      ]
     },
     "metadata": {
      "needs_background": "light"
     },
     "output_type": "display_data"
    }
   ],
   "source": [
    "# построим гистограммы распределения и доверительные интервалы обеих групп\n",
    "interval(samples_traffic_good, samples_traffic_bad)"
   ]
  },
  {
   "cell_type": "code",
   "execution_count": 96,
   "metadata": {},
   "outputs": [
    {
     "name": "stdout",
     "output_type": "stream",
     "text": [
      "min = -16.084061771200084 max = 31.709872837199978\n"
     ]
    },
    {
     "data": {
      "image/png": "[encoded data removed]",
      "text/plain": [
       "<Figure size 432x288 with 1 Axes>"
      ]
     },
     "metadata": {
      "needs_background": "light"
     },
     "output_type": "display_data"
    }
   ],
   "source": [
    "average_difference(df_traffic['good'], df_traffic['bad'])"
   ]
  },
  {
   "cell_type": "code",
   "execution_count": 97,
   "metadata": {},
   "outputs": [
    {
     "data": {
      "text/plain": [
       "0.2016601517706741"
      ]
     },
     "execution_count": 97,
     "metadata": {},
     "output_type": "execute_result"
    }
   ],
   "source": [
    "# найдем p-value через критерий Манна-Уитни\n",
    "p_value(df_traffic['good'], df_traffic['bad'])"
   ]
  },
  {
   "cell_type": "markdown",
   "metadata": {},
   "source": [
    "##### <font color='orange'>Доверительные интервалы выборок очень сильно пересекаются, , p_value = 0.071 при уровне значимости 0.05. А также при разнице средних ноль входит в доверительный интервал. Исходя из вышеизложенного следует вывод:<font>"
   ]
  },
  {
   "cell_type": "markdown",
   "metadata": {},
   "source": [
    "#### <font color='orange'>Гипотеза о том что уровень удовлетворенности качеством связи не зависит от среднего объема траффика подтверждается. Между исследуемыми группами нет статистически значимых различий. Абоненты удовлетворенные качеством связи и абоненты не удовлетворенные качеством связи потребляют одинаковое количество интернет-траффика.<font>"
   ]
  },
  {
   "cell_type": "code",
   "execution_count": null,
   "metadata": {},
   "outputs": [],
   "source": []
  },
  {
   "cell_type": "markdown",
   "metadata": {},
   "source": [
    "#### <font color='yellow'>Общие результаты исследования и рекомендации:<font>"
   ]
  },
  {
   "cell_type": "markdown",
   "metadata": {},
   "source": [
    "#### <font color='yellow'>В результате проведенного исследования мы выяснили, что средняя скорость интернета и средняя скорость загрузки видео сильно влияют  на уровень удовлетворенноти абонентов качеством связи. Не вляяет на уровень удовлетворенности средний обьем интернет-траффика. Данный признак является неизменным для обех групп исследования. Компании \"Мегафон\" необходимо уделить пристальное внимание признакам, влияющим на удовлетворенность качеством связи. Необходимо более детально изучить почему у одних абонентов показатели средней скорости интернета и скорость загрузки видео ниже  чем у других абонентов и что именно влияет на показатели этих признаков. Низкие показатели средней скорости интернета и средней скорости загрузки видео могут привести к оотоку абонентов всвязи с неудовлетворенностью качеством связи. Необходимо привести показатели данных признаков к уровню удовлетворенности абонентов, довольных качеством связи<font>"
   ]
  },
  {
   "cell_type": "markdown",
   "metadata": {},
   "source": [
    "#### <font color='yellow'>Для более  полного исследования об удовлетворенноти качеством связи необходимо исследовать не только признаки, отражающие показатели интернет-соединения и его производных, но и признаки, отражающие показатели телефонной связи. Например: количество разрывов во время разговоров, время ожидания гудков при звонке, геоданные абонента. После подобного исследования у компании \"Мегафон\" будут все необходимые данные для принятия тех или иных управленческих решений в области удовлетворенности абонентов качеством связи.<font> "
   ]
  },
  {
   "cell_type": "code",
   "execution_count": null,
   "metadata": {},
   "outputs": [],
   "source": []
  }
 ],
 "metadata": {
  "kernelspec": {
   "display_name": "Python 3",
   "language": "python",
   "name": "python3"
  },
  "language_info": {
   "codemirror_mode": {
    "name": "ipython",
    "version": 3
   },
   "file_extension": ".py",
   "mimetype": "text/x-python",
   "name": "python",
   "nbconvert_exporter": "python",
   "pygments_lexer": "ipython3",
   "version": "3.7.6"
  }
 },
 "nbformat": 4,
 "nbformat_minor": 4
}
